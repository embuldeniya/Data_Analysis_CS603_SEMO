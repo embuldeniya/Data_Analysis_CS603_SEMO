{
 "cells": [
  {
   "cell_type": "markdown",
   "metadata": {},
   "source": [
    "### List, Set, and Dict Comprehensions\n",
    "[expr for val in collection if condition]"
   ]
  },
  {
   "cell_type": "code",
   "execution_count": 5,
   "metadata": {},
   "outputs": [
    {
     "name": "stdout",
     "output_type": "stream",
     "text": [
      "['BAT', 'CAR', 'DOVE', 'PYTHON']\n",
      "['Steven']\n",
      "[1, 2, 3, 4, 5, 6, 7, 8, 9]\n"
     ]
    }
   ],
   "source": [
    "strings = ['a', 'as', 'bat', 'car', 'dove', 'python']\n",
    "strings2= [x.upper() for x in strings if len(x) > 2] #form a new list\n",
    "print(strings2)\n",
    "\"\"\"\n",
    "Nested list comprehensions\n",
    "names_of_interest = []\n",
    "for names in all_data:    \n",
    "    enough_es = [name for name in names if name.count('e') >= 2]    \n",
    "    names_of_interest.extend(enough_es)\n",
    "\"\"\"\n",
    "all_data = [['John', 'Emily', 'Michael', 'Mary', 'Steven'], ['Maria', 'Juan', 'Javier', 'Natalia', 'Pilar']]\n",
    "result = [name for names in all_data for name in names if name.count('e') >= 2]\n",
    "print(result)\n",
    "\"\"\"\n",
    "“flatten” a list of tuples of integers into a simple list of integers\n",
    "\"\"\"\n",
    "some_tuples = [(1, 2, 3), (4, 5, 6), (7, 8, 9)]\n",
    "flattened = [x for tup in some_tuples for x in tup]\n",
    "print(flattened)"
   ]
  }
 ],
 "metadata": {
  "kernelspec": {
   "display_name": "Python 3",
   "language": "python",
   "name": "python3"
  },
  "language_info": {
   "codemirror_mode": {
    "name": "ipython",
    "version": 3
   },
   "file_extension": ".py",
   "mimetype": "text/x-python",
   "name": "python",
   "nbconvert_exporter": "python",
   "pygments_lexer": "ipython3",
   "version": "3.7.0"
  }
 },
 "nbformat": 4,
 "nbformat_minor": 2
}
