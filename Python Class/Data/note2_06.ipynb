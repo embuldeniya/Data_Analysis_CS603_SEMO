{
 "cells": [
  {
   "cell_type": "code",
   "execution_count": 1,
   "metadata": {},
   "outputs": [
    {
     "name": "stdout",
     "output_type": "stream",
     "text": [
      "5 6 7\n",
      "5 [1, 2, 3] [5, 6]\n"
     ]
    }
   ],
   "source": [
    "\"\"\"\n",
    "function returns multiple values\n",
    "\"\"\"\n",
    "def f():    \n",
    "    a = 5    \n",
    "    b = 6    \n",
    "    c = 7    \n",
    "    return a, b, c\n",
    "r1, r2, r3 = f()\n",
    "print(r1, r2, r3)\n",
    "\n",
    "#Mutable objects as arguments: Arguments are passed in by object reference\n",
    "def f(n, list1, list2):\n",
    "    list1.append(3)\n",
    "    list2 = [4, 5, 6]\n",
    "    n = n + 1\n",
    "    \n",
    "x = 5\n",
    "y=[1,2]\n",
    "z=[5,6]\n",
    "f(x,y,z)\n",
    "print(x,y,z)"
   ]
  },
  {
   "cell_type": "markdown",
   "metadata": {},
   "source": [
    "### functions are objects"
   ]
  },
  {
   "cell_type": "code",
   "execution_count": 9,
   "metadata": {},
   "outputs": [
    {
     "name": "stdout",
     "output_type": "stream",
     "text": [
      "['Alabama', 'Georgia', 'Georgia', 'Georgia', 'Florida', 'South   Carolina', 'West Virginia']\n"
     ]
    }
   ],
   "source": [
    "\"\"\"\n",
    "import re\n",
    "def clean_strings(strings):    \n",
    "    result = []    \n",
    "    for value in strings:        \n",
    "        value = value.strip()        \n",
    "        value = re.sub('[!#?]', '', value)        \n",
    "        value = value.title()        \n",
    "        result.append(value)    \n",
    "    return result\n",
    "\"\"\"\n",
    "import re\n",
    "def remove_punctuation(value):    \n",
    "    return re.sub('[!#?]', '', value)\n",
    "clean_ops = [str.strip, remove_punctuation, str.title]\n",
    "def clean_strings(strings, ops):    \n",
    "    result = []    \n",
    "    for value in strings:        \n",
    "        for function in ops:            \n",
    "            value = function(value)        \n",
    "        result.append(value)    \n",
    "    return result\n",
    "states = ['   Alabama ', 'Georgia!', 'Georgia', 'georgia', 'FlOrIda', 'south   carolina##', 'West virginia?']\n",
    "print(clean_strings(states, clean_ops))"
   ]
  },
  {
   "cell_type": "markdown",
   "metadata": {},
   "source": [
    "### prefix * for function parameter: multiple number of arguments will be treated as tuple"
   ]
  },
  {
   "cell_type": "code",
   "execution_count": 4,
   "metadata": {},
   "outputs": [
    {
     "name": "stdout",
     "output_type": "stream",
     "text": [
      "9\n"
     ]
    }
   ],
   "source": [
    "\"\"\"\n",
    "DEALING WITH AN INDEFINITE NUMBER OF POSITIONAL ARGUMENTS\n",
    "Prefixing the final parameter name of the function with a * causes all excess nonkeyword\n",
    "arguments in a call of a function (that is, those positional arguments not\n",
    "assigned to another parameter) to be collected together and assigned as a tuple to\n",
    "the given parameter.\n",
    "\"\"\"\n",
    "def maximum(*numbers):\n",
    "    if len(numbers) == 0:\n",
    "        return None\n",
    "    else:\n",
    "        maxnum = numbers[0]\n",
    "        for n in numbers[1:]:\n",
    "            if n > maxnum:\n",
    "                maxnum = n\n",
    "        return maxnum\n",
    "    \n",
    "print(maximum(1, 5, 9, -2, 2))"
   ]
  },
  {
   "cell_type": "markdown",
   "metadata": {},
   "source": [
    "### prefix ** for function parameter: arguments have two parts, keyword and value, hence will be treated like dictionary"
   ]
  },
  {
   "cell_type": "code",
   "execution_count": 3,
   "metadata": {},
   "outputs": [
    {
     "name": "stdout",
     "output_type": "stream",
     "text": [
      "x: 2, y: 1, keys in 'other': ['foo', 'bar']\n",
      "The total of values in 'other' is 7\n",
      "None\n"
     ]
    }
   ],
   "source": [
    "\"\"\"\n",
    "DEALING WITH AN INDEFINITE NUMBER OF ARGUMENTS PASSED BY KEYWORD\n",
    "An arbitrary number of keyword arguments can also be handled. If the final parameter\n",
    "in the parameter list is prefixed with **, it will collect all excess keyword-passed arguments\n",
    "into a dictionary. The index for each entry in the dictionary will be the keyword\n",
    "(parameter name) for the excess argument. The value of that entry is the argument\n",
    "itself. An argument passed by keyword is excess in this context if the keyword by which\n",
    "it was passed doesn’t match one of the parameter names of the function\n",
    "\"\"\"\n",
    "def example_fun(x, y, **other):\n",
    "    print(\"x: {0}, y: {1}, keys in 'other': {2}\".format(x,\n",
    "          y, list(other.keys())))\n",
    "    other_total = 0\n",
    "    for k in other.keys():\n",
    "        other_total = other_total + other[k]\n",
    "    print(\"The total of values in 'other' is {0}\".format(other_total))\n",
    "    \n",
    "print(example_fun(2, y=\"1\", foo=3, bar=4))"
   ]
  },
  {
   "cell_type": "code",
   "execution_count": 10,
   "metadata": {},
   "outputs": [
    {
     "name": "stdout",
     "output_type": "stream",
     "text": [
      "arg_1: 1\n",
      "arg_2: 2\n",
      "arg_3: 3\n"
     ]
    }
   ],
   "source": [
    "def some_args(arg_1, arg_2, arg_3):\n",
    "    print(\"arg_1:\", arg_1)\n",
    "    print(\"arg_2:\", arg_2)\n",
    "    print(\"arg_3:\", arg_3)\n",
    "\n",
    "my_list = [2, 3]\n",
    "some_args(1, *my_list)"
   ]
  },
  {
   "cell_type": "code",
   "execution_count": 9,
   "metadata": {},
   "outputs": [
    {
     "name": "stdout",
     "output_type": "stream",
     "text": [
      "kwarg_1: Val\n",
      "kwarg_2: Harper\n",
      "kwarg_3: Remy\n"
     ]
    }
   ],
   "source": [
    "def some_kwargs(kwarg_1, kwarg_2, kwarg_3): #keyword arguments: the three parameters are the keys of a dictionary\n",
    "    print(\"kwarg_1:\", kwarg_1)\n",
    "    print(\"kwarg_2:\", kwarg_2)\n",
    "    print(\"kwarg_3:\", kwarg_3)\n",
    "\n",
    "kwargs = {\"kwarg_1\": \"Val\", \"kwarg_2\": \"Harper\", \"kwarg_3\": \"Remy\"}\n",
    "some_kwargs(**kwargs)"
   ]
  },
  {
   "cell_type": "code",
   "execution_count": 11,
   "metadata": {},
   "outputs": [
    {
     "name": "stdout",
     "output_type": "stream",
     "text": [
      "top level-> g_var: 0 nl_var: 0\n",
      "in test-> g_var: 0 nl_var: 2\n",
      "in inner_test-> g_var: 1 nl_var: 4\n",
      "in test-> g_var: 1 nl_var: 4\n",
      "top level-> g_var: 1 nl_var: 0\n"
     ]
    }
   ],
   "source": [
    "#Local, nonlocal, and global variables\n",
    "g_var = 0\n",
    "nl_var = 0\n",
    "print(\"top level-> g_var: {0} nl_var: {1}\".format(g_var, nl_var))\n",
    "def test():\n",
    "    nl_var = 2\n",
    "    print(\"in test-> g_var: {0} nl_var: {1}\".format(g_var, nl_var))\n",
    "    def inner_test():\n",
    "        global g_var\n",
    "        nonlocal nl_var\n",
    "        g_var = 1\n",
    "        nl_var = 4\n",
    "        print(\"in inner_test-> g_var: {0} nl_var: {1}\".format(g_var,\n",
    "        nl_var))\n",
    "    inner_test()\n",
    "    print(\"in test-> g_var: {0} nl_var: {1}\".format(g_var, nl_var))\n",
    "test()\n",
    "print(\"top level-> g_var: {0} nl_var: {1}\".format(g_var, nl_var))"
   ]
  },
  {
   "cell_type": "markdown",
   "metadata": {},
   "source": [
    "### Assigning functions to variables"
   ]
  },
  {
   "cell_type": "code",
   "execution_count": 2,
   "metadata": {},
   "outputs": [
    {
     "name": "stdout",
     "output_type": "stream",
     "text": [
      "273.15\n",
      "273.15\n"
     ]
    }
   ],
   "source": [
    "def f_to_kelvin(degrees_f):\n",
    "    return 273.15 + (degrees_f - 32) * 5 / 9\n",
    "abs_temperature = f_to_kelvin\n",
    "print(abs_temperature(32))\n",
    "#can place them in lists, tuples, or dictionaries\n",
    "t = {'FtoK': f_to_kelvin}\n",
    "print(t['FtoK'](32))"
   ]
  },
  {
   "cell_type": "markdown",
   "metadata": {},
   "source": [
    "### lambda expressions"
   ]
  },
  {
   "cell_type": "code",
   "execution_count": 3,
   "metadata": {},
   "outputs": [
    {
     "name": "stdout",
     "output_type": "stream",
     "text": [
      "273.15\n"
     ]
    }
   ],
   "source": [
    "#lambda parameter1, parameter2, . . .: expression\n",
    "#lambda expressions are anonymous little functions that you can quickly define inline\n",
    "t2 = {'FtoK': lambda degrees_f: 273.15 + (degrees_f - 32) * 5 / 9,\n",
    "      'CtoK': lambda deg_c: 273.15 + deg_c}\n",
    "print(t2['FtoK'](32))"
   ]
  },
  {
   "cell_type": "markdown",
   "metadata": {},
   "source": [
    "### Currying: Partial Argument Application"
   ]
  },
  {
   "cell_type": "code",
   "execution_count": null,
   "metadata": {},
   "outputs": [],
   "source": [
    "\"\"\"\n",
    "add_five = lambda y: add_numbers(5, y)\n",
    "\"\"\"\n",
    "def add_numbers(x, y):    \n",
    "    return x + y\n",
    "from functools import partial\n",
    "add_five = partial(add_numbers, 5)\n",
    "print(\"currying: \", add_five(3))"
   ]
  },
  {
   "cell_type": "markdown",
   "metadata": {},
   "source": [
    "### Generator function"
   ]
  },
  {
   "cell_type": "code",
   "execution_count": 4,
   "metadata": {},
   "outputs": [
    {
     "name": "stdout",
     "output_type": "stream",
     "text": [
      "<generator object four at 0x1109779a8>\n",
      "0 1 2 3\n",
      "0\n",
      "1\n",
      "0\n",
      "1\n",
      "2\n",
      "3\n",
      "hello True\n"
     ]
    }
   ],
   "source": [
    "\"\"\"\n",
    "A generator function is a special kind of function that you can use to define your own\n",
    "iterators. When you define a generator function, you return each iteration’s value\n",
    "using the yield keyword. When there are no more iterations, an empty return statement\n",
    "or flowing off the end of the function ends the iterations. Local variables in a\n",
    "generator function are saved from one call to the next, unlike in normal functions\n",
    "\"\"\"\n",
    "def four():\n",
    "    x = 0\n",
    "    while x < 4:\n",
    "        #print(\"in generator, x =\", x)\n",
    "        yield x\n",
    "        x += 1\n",
    "print(four())\n",
    "print(*four())\n",
    "itr= iter(four())\n",
    "print(next(itr))\n",
    "print(next(itr))\n",
    "\n",
    "for i in four():\n",
    "    print(i)\n",
    "#print(\"check if 2 in four()\")    \n",
    "#You can also use generator functions with in to see if a value is in the series that the\n",
    "#generator produces\n",
    "print(\"hello\", 2 in four())"
   ]
  },
  {
   "cell_type": "markdown",
   "metadata": {},
   "source": [
    "### Generator expresssions"
   ]
  },
  {
   "cell_type": "code",
   "execution_count": 5,
   "metadata": {},
   "outputs": [
    {
     "name": "stdout",
     "output_type": "stream",
     "text": [
      "Generator expressions\n",
      "0 1 4 9 16 25 36 49 64 81 \n",
      "328350\n",
      "{0: 0, 1: 1, 2: 4, 3: 9, 4: 16}\n"
     ]
    }
   ],
   "source": [
    "\"\"\"\n",
    "Another even more concise way to make a generator is by using a generator expression. \n",
    "This is a generator analogue to list, dict, and set comprehensions; to create one, \n",
    "enclose what would otherwise be a list comprehension within parentheses instead of brackets\n",
    "\"\"\"\n",
    "gen = (x ** 2 for x in range(10))\n",
    "print(\"Generator expressions\")\n",
    "for x in gen:   \n",
    "    print(x, end=' ')\n",
    "print()\n",
    "print(sum(x ** 2 for x in range(100)))\n",
    "print(dict((i, i **2) for i in range(5)))"
   ]
  },
  {
   "cell_type": "markdown",
   "metadata": {},
   "source": [
    "### the underscore( _ ) in Python\n",
    "https://hackernoon.com/understanding-the-underscore-of-python-309d1a029edc"
   ]
  },
  {
   "cell_type": "markdown",
   "metadata": {},
   "source": [
    "### Decorators\n",
    "decorator provides a general decoration, for example, assuming painting\n",
    "\n",
    "then wrapper function is individual, for example, can be build house, build car, build robot, and each of it can be decorated with the decorator function (painting)"
   ]
  },
  {
   "cell_type": "code",
   "execution_count": 5,
   "metadata": {},
   "outputs": [
    {
     "name": "stdout",
     "output_type": "stream",
     "text": [
      "in decorate function, decorating myfunction\n",
      "in decorate function, decorating myfunction2\n",
      "Executing myfunction\n",
      "hello\n",
      "Executing myfunction2\n",
      "welcome\n",
      "world\n"
     ]
    }
   ],
   "source": [
    "\"\"\"\n",
    "write a Python function that takes another function as its parameter, \n",
    "wrap it in another function that does something related, and then return\n",
    "the new function\n",
    "using a decorator involves two parts: defining the function that will be\n",
    "wrapping or “decorating” other functions and then using an @ followed by the decorator\n",
    "immediately before the wrapped function is defined. The decorator function\n",
    "should take a function as a parameter and return a function\n",
    "\"\"\" \n",
    "def decorate(func): #like painting\n",
    "    print(\"in decorate function, decorating\", func.__name__)\n",
    "    def wrapper_func(*args):\n",
    "        print(\"Executing\", func.__name__)\n",
    "        return func(*args) #returns original function object which is the input function\n",
    "    return wrapper_func\n",
    "\n",
    "@decorate                   #like build house\n",
    "def myfunction(parameter):  #myfunction is decorated by decorate(), other functions can also be decorated by it\n",
    "    print(parameter)    \n",
    "\n",
    "@decorate\n",
    "def myfunction2():         #like build car\n",
    "    print(\"welcome\")\n",
    "    print(\"world\")\n",
    "    \n",
    "myfunction(\"hello\")\n",
    "myfunction2()"
   ]
  },
  {
   "cell_type": "code",
   "execution_count": 1,
   "metadata": {},
   "outputs": [
    {
     "data": {
      "text/plain": [
       "'HELLO!'"
      ]
     },
     "execution_count": 1,
     "metadata": {},
     "output_type": "execute_result"
    }
   ],
   "source": [
    "def uppercase(func):\n",
    "    def wrapper():\n",
    "        original_result = func()\n",
    "        modified_result = original_result.upper()\n",
    "        return modified_result  #returns a new function object which is different from the input function\n",
    "    return wrapper\n",
    "\n",
    "@uppercase\n",
    "def greet():\n",
    "    return 'Hello!'\n",
    "\n",
    "greet()"
   ]
  },
  {
   "cell_type": "code",
   "execution_count": 2,
   "metadata": {},
   "outputs": [
    {
     "data": {
      "text/plain": [
       "'<strong><em>Hello!</em></strong>'"
      ]
     },
     "execution_count": 2,
     "metadata": {},
     "output_type": "execute_result"
    }
   ],
   "source": [
    "def strong(func):\n",
    "    def wrapper():\n",
    "        return '<strong>' + func() + '</strong>'\n",
    "    return wrapper\n",
    "\n",
    "def emphasis(func):\n",
    "    def wrapper():\n",
    "        return '<em>' + func() + '</em>'\n",
    "    return wrapper\n",
    "\n",
    "#Applying Multiple Decorators to a Single Function\n",
    "@strong\n",
    "@emphasis\n",
    "def greet():\n",
    "    return 'Hello!'\n",
    "\n",
    "greet()"
   ]
  },
  {
   "cell_type": "code",
   "execution_count": 3,
   "metadata": {},
   "outputs": [
    {
     "name": "stdout",
     "output_type": "stream",
     "text": [
      "TRACE: calling say() with ('Jane', 'Hello, World'), {}\n",
      "TRACE: say() returned 'Jane: Hello, World'\n"
     ]
    },
    {
     "data": {
      "text/plain": [
       "'Jane: Hello, World'"
      ]
     },
     "execution_count": 3,
     "metadata": {},
     "output_type": "execute_result"
    }
   ],
   "source": [
    "def trace(func):\n",
    "    def wrapper(*args, **kwargs):\n",
    "        print(f'TRACE: calling {func.__name__}() '\n",
    "              f'with {args}, {kwargs}')\n",
    "\n",
    "        original_result = func(*args, **kwargs)\n",
    "\n",
    "        print(f'TRACE: {func.__name__}() '\n",
    "              f'returned {original_result!r}')\n",
    "\n",
    "        return original_result\n",
    "    return wrapper\n",
    "\n",
    "#Decorating Functions That Accept Arguments\n",
    "@trace\n",
    "def say(name, line):\n",
    "    return f'{name}: {line}'\n",
    "\n",
    "say('Jane', 'Hello, World')"
   ]
  },
  {
   "cell_type": "markdown",
   "metadata": {},
   "source": [
    "### itertools"
   ]
  },
  {
   "cell_type": "markdown",
   "metadata": {},
   "source": [
    "groupby returns iterator.  loop through the iterator yields tuples where first element of the tuple is the key which was used to group and <strong><em>second element of tuple is another iterator.</em></strong>"
   ]
  },
  {
   "cell_type": "code",
   "execution_count": 7,
   "metadata": {},
   "outputs": [
    {
     "name": "stdout",
     "output_type": "stream",
     "text": [
      "A ['Alan', 'Adam']\n",
      "W ['Wes', 'Will']\n",
      "A ['Albert']\n",
      "S ['Steven']\n"
     ]
    }
   ],
   "source": [
    "\"\"\"\n",
    "itertools module has a collection of generators for many common data algorithms. \n",
    "For example, groupby takes any sequence and a function, grouping consecutive elements in        \n",
    "the sequence by return value of the function\n",
    "\"\"\"\n",
    "import itertools\n",
    "first_letter = lambda x: x[0]\n",
    "names = ['Alan', 'Adam', 'Wes', 'Will', 'Albert', 'Steven']\n",
    "#for letter, names in itertools.groupby(names, first_letter):\n",
    "for letter, names in itertools.groupby(names, key=lambda x: x[0]):#specify the key for grouping\n",
    "    print(letter, list(names)) # names is a generator"
   ]
  },
  {
   "cell_type": "markdown",
   "metadata": {},
   "source": [
    "groupby returns an iterator. \n",
    "\n",
    "key argument to groupby tells the criteria using which elements of sequence should be grouped. We want to group elements of the sequence based on each country’s country key.\n",
    "\n",
    "Looping through companies_grouped_by_country yields tuples where first element of the tuple is the key which was used to group and second element of tuple is another iterator."
   ]
  },
  {
   "cell_type": "code",
   "execution_count": 11,
   "metadata": {},
   "outputs": [
    {
     "name": "stdout",
     "output_type": "stream",
     "text": [
      "----\n",
      "India\n",
      "-- Flipkart\n",
      "-- Myntra\n",
      "-- Paytm\n",
      "----\n",
      "----\n",
      "USA\n",
      "-- Apple\n",
      "-- Facebook\n",
      "----\n",
      "----\n",
      "Japan\n",
      "-- Canon\n",
      "-- Pixela\n",
      "----\n"
     ]
    }
   ],
   "source": [
    "companies = [{'country': 'India', 'company': 'Flipkart'}, \n",
    "             {'country': 'India', 'company': 'Myntra'}, \n",
    "             {'country': 'India', 'company': 'Paytm'}, \n",
    "             {'country': 'USA', 'company': 'Apple'}, \n",
    "             {'country': 'USA', 'company': 'Facebook'}, \n",
    "             {'country': 'Japan', 'company': 'Canon'}, \n",
    "             {'country': 'Japan', 'company': 'Pixela'}]\n",
    "companies_grouped_by_country = itertools.groupby(companies, key=lambda each: each['country']) #tuple\n",
    "#for country_name, _ in companies_grouped_by_country: #unpacking the tuple\n",
    "#    print(country_name)\n",
    "\n",
    "#for country_name, country_companies in companies_grouped_by_country:\n",
    "#    print(\"----\")\n",
    "#    print(country_name)\n",
    "#    for company_detail in country_companies:\n",
    "#        print(company_detail) \n",
    "#    print(\"----\")\n",
    "    \n",
    "for country_name, country_companies in companies_grouped_by_country:\n",
    "    print(\"----\")\n",
    "    print(country_name)\n",
    "    for company_detail in country_companies:\n",
    "        print(\"--\", company_detail['company'])\n",
    "    print(\"----\")"
   ]
  },
  {
   "cell_type": "code",
   "execution_count": 18,
   "metadata": {},
   "outputs": [
    {
     "name": "stdout",
     "output_type": "stream",
     "text": [
      "error\n"
     ]
    }
   ],
   "source": [
    "def attempt_float(x):    \n",
    "    try:        \n",
    "        return float(x)    \n",
    "    except (TypeError, ValueError):        \n",
    "        return 'error'\n",
    "print(attempt_float((1, 2)))"
   ]
  }
 ],
 "metadata": {
  "kernelspec": {
   "display_name": "Python 3",
   "language": "python",
   "name": "python3"
  },
  "language_info": {
   "codemirror_mode": {
    "name": "ipython",
    "version": 3
   },
   "file_extension": ".py",
   "mimetype": "text/x-python",
   "name": "python",
   "nbconvert_exporter": "python",
   "pygments_lexer": "ipython3",
   "version": "3.7.1"
  }
 },
 "nbformat": 4,
 "nbformat_minor": 2
}
