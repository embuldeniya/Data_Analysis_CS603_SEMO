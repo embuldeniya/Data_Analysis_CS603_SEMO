{
 "cells": [
  {
   "cell_type": "code",
   "execution_count": 1,
   "metadata": {},
   "outputs": [
    {
     "data": {
      "text/plain": [
       "array([ 6., 15.])"
      ]
     },
     "execution_count": 1,
     "metadata": {},
     "output_type": "execute_result"
    }
   ],
   "source": [
    "import numpy as np\n",
    "x = np.array([[1., 2., 3.], [4., 5., 6.]])\n",
    "y = np.array([[6., 23.], [-1, 7], [8, 9]])\n",
    "x.dot(y)\n",
    "np.dot(x, np.ones(3))\n",
    "#The @ symbol also works as an infix operator that performs matrix multiplication\n",
    "x @ np.ones(3)"
   ]
  },
  {
   "cell_type": "code",
   "execution_count": 2,
   "metadata": {},
   "outputs": [
    {
     "name": "stdout",
     "output_type": "stream",
     "text": [
      "[False False  True  True  True False  True  True  True False]\n",
      "[False False  True  True  True False  True  True  True]\n",
      "[False  True  True  True False  True  True  True False]\n"
     ]
    }
   ],
   "source": [
    "x = np.random.choice([False, True], size=10)\n",
    "print(x)\n",
    "print(x[:-1])\n",
    "print(x[1:])"
   ]
  },
  {
   "cell_type": "code",
   "execution_count": 3,
   "metadata": {},
   "outputs": [
    {
     "data": {
      "text/plain": [
       "array([[-10.88849884,  -5.30252244,   8.42676411,   5.29048133,\n",
       "          6.20389141],\n",
       "       [  0.        ,  -5.25611278,   2.87182429,  -2.71606097,\n",
       "          3.75178741],\n",
       "       [  0.        ,   0.        ,  -3.62637319,   0.08726536,\n",
       "         -5.58151909],\n",
       "       [  0.        ,   0.        ,   0.        ,  -2.75820829,\n",
       "         -0.88318555],\n",
       "       [  0.        ,   0.        ,   0.        ,   0.        ,\n",
       "          0.3549946 ]])"
      ]
     },
     "execution_count": 3,
     "metadata": {},
     "output_type": "execute_result"
    }
   ],
   "source": [
    "\"\"\"\n",
    "numpy.linalg has a standard set of matrix decompositions and things like inverse and determinant\n",
    "\"\"\"\n",
    "from numpy.linalg import inv, qr\n",
    "X = np.random.randn(5, 5)\n",
    "mat = X.T.dot(X)\n",
    "inv(mat)\n",
    "mat.dot(inv(mat))\n",
    "q, r = qr(mat)\n",
    "r"
   ]
  },
  {
   "cell_type": "code",
   "execution_count": 4,
   "metadata": {},
   "outputs": [
    {
     "data": {
      "text/plain": [
       "array([ 0.47143516, -1.19097569,  1.43270697, -0.3126519 , -0.72058873,\n",
       "        0.88716294,  0.85958841, -0.6365235 ,  0.01569637, -2.24268495])"
      ]
     },
     "execution_count": 4,
     "metadata": {},
     "output_type": "execute_result"
    }
   ],
   "source": [
    "\"\"\"\n",
    "The numpy.random module supplements the built-in Python random with functions \n",
    "for efficiently generating whole arrays of sample values from many kinds of probability distributions. \n",
    "For example, you can get a 4 × 4 array of samples from the standard normal distribution using normal\n",
    "\"\"\"\n",
    "samples = np.random.normal(size=(4, 4))\n",
    "\"\"\"\n",
    "Python’s built-in random module, by contrast, only samples one value at a time. \n",
    "As you can see from this benchmark, numpy.random is well over an order of magnitude faster \n",
    "for generating very large samples\n",
    "\"\"\"\n",
    "#from random import normalvariate\n",
    "#N = 1000000\n",
    "#%timeit samples = [normalvariate(0, 1) for _ in range(N)]\n",
    "#%timeit np.random.normal(size=N)\n",
    "\"\"\"\n",
    "You can change NumPy’s random number generation seed using np.random.seed\n",
    "The data generation functions in numpy.random use a global random seed. \n",
    "To avoid global state, you can use numpy.random.RandomState to create \n",
    "a random number generator isolated from others\n",
    "\"\"\"\n",
    "rng = np.random.RandomState(1234)\n",
    "rng.randn(10)"
   ]
  },
  {
   "cell_type": "code",
   "execution_count": 5,
   "metadata": {},
   "outputs": [
    {
     "data": {
      "text/plain": [
       "<Figure size 640x480 with 1 Axes>"
      ]
     },
     "metadata": {},
     "output_type": "display_data"
    }
   ],
   "source": [
    "\"\"\"\n",
    "random walk\n",
    "\"\"\"\n",
    "import random\n",
    "import matplotlib.pyplot as plt\n",
    "position = 0\n",
    "walk = [position]\n",
    "steps = 1000\n",
    "for i in range(steps):\n",
    "    step = 1 if random.randint(0, 1) else -1\n",
    "    position += step\n",
    "    walk.append(position)\n",
    "plt.plot(walk[:100])\n",
    "plt.show()"
   ]
  },
  {
   "cell_type": "code",
   "execution_count": 6,
   "metadata": {},
   "outputs": [
    {
     "data": {
      "image/png": "[encoded data removed]",
      "text/plain": [
       "<Figure size 432x288 with 1 Axes>"
      ]
     },
     "metadata": {
      "needs_background": "light"
     },
     "output_type": "display_data"
    },
    {
     "data": {
      "text/plain": [
       "9"
      ]
     },
     "execution_count": 6,
     "metadata": {},
     "output_type": "execute_result"
    }
   ],
   "source": [
    "\"\"\"\n",
    "walk is simply the cumulative sum of the random steps and could be evaluated as an array expression. \n",
    "Thus, I use the np.random module to draw 1,000 coin flips at once, set these to 1 and –1, and compute the cumulative sum\n",
    "\"\"\"\n",
    "nsteps = 1000\n",
    "draws = np.random.randint(0, 2, size=nsteps)\n",
    "steps = np.where(draws > 0, 1, -1)\n",
    "walk = steps.cumsum()\n",
    "plt.plot(walk[:100])\n",
    "plt.show()\n",
    "walk.min()\n",
    "walk.max()"
   ]
  },
  {
   "cell_type": "code",
   "execution_count": 7,
   "metadata": {},
   "outputs": [
    {
     "name": "stdout",
     "output_type": "stream",
     "text": [
      "[ 1  0  1  2  1  2  3  2  3  4  5  4  3  4  3  2  3  4  5  4  5  6  5  4\n",
      "  3  2  3  4  5  4  5  4  3  4  3  4  5  4  5  6  7  6  7  6  5  4  3  2\n",
      "  1  0  1  0  1  0  1  2  3  4  5  6  7  6  7  8  7  8  9  8  7  6  5  4\n",
      "  3  4  3  2  1  2  3  2  1  2  3  2  1  2  3  4  5  6  5  4  5  6  7  8\n",
      "  7  6  5  4  3  4  3  4  5  4  5  4  3  4  5  6  5  4  3  4  5  4  5  6\n",
      "  7  6  5  4  3  2  3  2  1  0  1  0  1  2  1  2  3  4  3  2  3  4  3  4\n",
      "  5  4  3  4  5  6  7  6  5  4  3  4  3  2  1  0  1  2  1  0  1  0  1  2\n",
      "  1  2  1  2  3  2  3  4  5  6  7  8  9  8  7  6  5  6  5  6  5  4  5  4\n",
      "  5  4  3  2  3  4  3  2  3  4  3  2  1  0  1  2  1  0  1  0  1  0  1  2\n",
      "  1  2  3  2  1  0  1  2  3  4  3  2  1  0  1  2  1  0  1  2  3  4  3  2\n",
      "  3  2  1  0  1  2  1  0  1  0  1  0  1  0  1  2  1  0  1  2  1  2  3  4\n",
      "  5  4  5  6  5  4  5  6  5  6  5  4  3  4  3  4  3  2  1  2  1  0  1  0\n",
      "  1  2  1  0  1  0  1  2  3  2  1  2  3  4  3  2  1  0  1  2  1  2  3  2\n",
      "  3  2  1  0  1  0  1  2  1  2  1  2  1  0  1  2  1  2  1  0  1  0  1  0\n",
      "  1  2  1  2  3  4  5  4  3  4  5  4  3  4  3  2  1  2  3  4  3  4  5  6\n",
      "  5  4  3  4  5  6  7  6  7  6  7  8  9 10 11 10  9 10 11 10  9 10 11 10\n",
      "  9  8  7  6  7  6  7  8  9  8  9 10 11 10 11 12 11 10  9 10 11 12 11 10\n",
      " 11 12 11 12 13 14 13 14 15 16 15 14 15 16 17 18 19 18 17 16 15 14 15 14\n",
      " 13 12 11 12 11 12 13 14 15 14 13 14 15 16 15 16 15 16 15 14 15 16 15 14\n",
      " 13 14 13 14 13 14 15 14 13 12 13 12 13 12 11 12 11 12 13 12 13 14 13 12\n",
      " 13 12 11 10 11 10  9 10  9  8  7  6  7  8  9  8  9 10  9  8  9 10 11 12\n",
      " 13 14 13 14 13 12 13 12 11 10 11 10  9 10 11 12 11 12 13 12 13 14 15 14\n",
      " 15 14 13 14 13 14 15 14 15 14 13 14 15 16 15 16 17 16 15 16 17 18 17 16\n",
      " 17 18 19 20 21 22 21 20 19 20 21 20 21 20 21 20 19 20 19 20 21 22 21 20\n",
      " 21 22 23 22 21 20 21 20 19 20 19 18 19 18 19 18 17 16 17 16 17 18 17 18\n",
      " 17 18 17 18 17 16 17 18 19 20 21 22 21 22 23 24 23 22 23 22 23 22 23 22\n",
      " 21 22 21 22 23 24 25 24 25 26 27 28 27 28 27 28 27 28 29 30 31 32 33 32\n",
      " 33 34 33 34 33 32 33 32 33 32 31 32 33 32 33 34 33 32 33 32 33 34 35 34\n",
      " 33 34 35 34 35 34 33 34 35 34 35 36 35 34 35 36 37 36 37 38 37 38 39 38\n",
      " 39 40 41 40 39 38 37 36 35 36 35 34 35 36 37 38 39 38 37 36 35 36 35 34\n",
      " 33 34 33 32 31 32 31 30 29 28 27 26 27 26 25 24 23 24 23 24 25 24 23 24\n",
      " 23 24 23 24 23 24 23 22 21 22 21 22 23 24 23 24 25 26 25 24 25 24 25 26\n",
      " 27 26 25 24 25 24 23 22 21 20 21 20 19 18 17 18 17 18 19 18 17 18 19 18\n",
      " 19 20 19 20 19 18 17 16 15 16 17 18 19 20 19 20 21 22 21 22 23 24 23 22\n",
      " 23 22 21 22 21 22 21 20 19 20 19 18 17 18 17 18 19 20 19 20 21 20 19 20\n",
      " 19 18 17 18 17 16 15 14 13 14 13 12 11 10 11 10 11 10  9 10 11 12 11 10\n",
      " 11 10  9  8  7  6  5  4  5  6  5  4  5  6  7  6  5  4  3  2  3  2  1  0\n",
      "  1  2  1  2  3  2  1  2  1  2  1  2  3  4  3  4  3  2  3  2  3  2  1  0\n",
      "  1  2  3  4  5  6  7  6  5  6  5  4  5  6  5  4  5  4  3  4  3  2  1  0\n",
      "  1  2  1  0  1  0  1  2  3  4  5  4  5  6  5  6  5  4  5  6  7  6  5  4\n",
      "  3  4  3  2  1  2  3  2  1  2  1  0  1  2  3  4  5  4  3  2  1  2  3  4\n",
      "  3  2  1  2  3  4  3  2  3  4  5  4  3  4  3  2]\n"
     ]
    },
    {
     "data": {
      "text/plain": [
       "373"
      ]
     },
     "execution_count": 7,
     "metadata": {},
     "output_type": "execute_result"
    }
   ],
   "source": [
    "\"\"\"\n",
    "A more complicated statistic is the first crossing time, the step at which the random walk \n",
    "reaches a particular value. Here we might want to know how long it took the random walk \n",
    "to get at least 10 steps away from the origin 0 in either direction. \n",
    "np.abs(walk) >= 10 gives us a boolean array indicating where the walk has reached or exceeded 10, \n",
    "but we want the index of the first 10 or –10. Turns out, we can compute this using argmax, \n",
    "which returns the first index of the maximum value in the boolean array (True is the maximum value)\n",
    "\"\"\"\n",
    "print(np.abs(walk))\n",
    "(np.abs(walk) >= 10).argmax()"
   ]
  },
  {
   "cell_type": "code",
   "execution_count": 8,
   "metadata": {},
   "outputs": [
    {
     "data": {
      "text/plain": [
       "502.303351475222"
      ]
     },
     "execution_count": 8,
     "metadata": {},
     "output_type": "execute_result"
    }
   ],
   "source": [
    "\"\"\"\n",
    "Simulating Many Random Walks at Once\n",
    "\"\"\"\n",
    "nwalks = 5000\n",
    "nsteps = 1000\n",
    "draws = np.random.randint(0, 2, size=(nwalks, nsteps)) # 2d of 0 or 1\n",
    "#draws?\n",
    "steps = np.where(draws > 0, 1, -1)\n",
    "walks = steps.cumsum(1)\n",
    "#walks?\n",
    "hits30 = (np.abs(walks) >= 30).any(1)\n",
    "hits30?\n",
    "hits30.sum() # Number that hit 30 or -30\n",
    "\"\"\"\n",
    "We can use this boolean array to select out the rows of walks that actually cross the absolute 30 level and \n",
    "call argmax across axis 1 to get the crossing times\n",
    "\"\"\"\n",
    "crossing_times = (np.abs(walks[hits30]) >= 30).argmax(1)\n",
    "crossing_times.mean()"
   ]
  },
  {
   "cell_type": "code",
   "execution_count": null,
   "metadata": {},
   "outputs": [],
   "source": []
  }
 ],
 "metadata": {
  "kernelspec": {
   "display_name": "Python 3",
   "language": "python",
   "name": "python3"
  },
  "language_info": {
   "codemirror_mode": {
    "name": "ipython",
    "version": 3
   },
   "file_extension": ".py",
   "mimetype": "text/x-python",
   "name": "python",
   "nbconvert_exporter": "python",
   "pygments_lexer": "ipython3",
   "version": "3.7.0"
  }
 },
 "nbformat": 4,
 "nbformat_minor": 2
}
