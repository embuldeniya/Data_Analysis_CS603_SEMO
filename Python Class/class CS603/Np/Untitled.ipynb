{
 "cells": [
  {
   "cell_type": "code",
   "execution_count": 10,
   "metadata": {},
   "outputs": [
    {
     "name": "stdout",
     "output_type": "stream",
     "text": [
      "Max gain: 11.58% on 2008-10-13\n",
      "Max loss: -20.47% on 1987-10-19\n",
      "Longest growth streak: 14 days (1971-03-26 to 1971-04-15)\n"
     ]
    }
   ],
   "source": [
    "\n",
    "from collections import namedtuple\n",
    "import csv\n",
    "from datetime import datetime\n",
    "import itertools as it\n",
    "import functools as ft\n",
    "\n",
    "\n",
    "class DataPoint(namedtuple(\"DataPoint\", [\"date\", \"value\"])):\n",
    "    __slots__ = ()\n",
    "\n",
    "    def __le__(self, other):\n",
    "        return self.value <= other.value\n",
    "\n",
    "    def __lt__(self, other):\n",
    "        return self.value < other.value\n",
    "\n",
    "    def __gt__(self, other):\n",
    "        return self.value > other.value\n",
    "\n",
    "\n",
    "def consecutive_positives(sequence, zero=0):\n",
    "    def _consecutives():\n",
    "        for itr in it.repeat(iter(sequence)):\n",
    "            yield tuple(\n",
    "                it.takewhile(\n",
    "                    lambda p: p > zero, it.dropwhile(lambda p: p <= zero, itr)\n",
    "                )\n",
    "            )\n",
    "\n",
    "    return it.takewhile(lambda t: len(t), _consecutives())\n",
    "\n",
    "\n",
    "def read_prices(csvfile, _strptime=datetime.strptime):\n",
    "    with open(csvfile) as infile:\n",
    "        reader = csv.DictReader(infile)\n",
    "        for row in reader:\n",
    "            yield DataPoint(\n",
    "                date=_strptime(row[\"Date\"], \"%Y-%m-%d\").date(),\n",
    "                value=float(row[\"Adj Close\"]),\n",
    "            )\n",
    "\n",
    "\n",
    "# Read prices and calculate daily percent change.\n",
    "prices = tuple(read_prices(\"/Users/techyouknow/Desktop/Python Class/SP500.csv\"))\n",
    "gains = tuple(\n",
    "    DataPoint(day.date, 100 * (day.value / prev_day.value - 1.0))\n",
    "    for day, prev_day in zip(prices[1:], prices)\n",
    ")\n",
    "\n",
    "# Find maximum daily gain/loss.\n",
    "zdp = DataPoint(None, 0)  # zero DataPoint\n",
    "max_gain = ft.reduce(max, it.filterfalse(lambda p: p <= zdp, gains))\n",
    "max_loss = ft.reduce(min, it.filterfalse(lambda p: p > zdp, gains), zdp)\n",
    "\n",
    "\n",
    "# Find longest growth streak.\n",
    "growth_streaks = consecutive_positives(gains, zero=DataPoint(None, 0))\n",
    "longest_streak = ft.reduce(\n",
    "    lambda x, y: x if len(x) > len(y) else y, growth_streaks\n",
    ")\n",
    "\n",
    "# Display results.\n",
    "print(\"Max gain: {1:.2f}% on {0}\".format(*max_gain))\n",
    "print(\"Max loss: {1:.2f}% on {0}\".format(*max_loss))\n",
    "\n",
    "print(\n",
    "    \"Longest growth streak: {num_days} days ({first} to {last})\".format(\n",
    "        num_days=len(longest_streak),\n",
    "        first=longest_streak[0].date,\n",
    "        last=longest_streak[-1].date,\n",
    "    )\n",
    ")"
   ]
  },
  {
   "cell_type": "code",
   "execution_count": null,
   "metadata": {},
   "outputs": [],
   "source": []
  }
 ],
 "metadata": {
  "kernelspec": {
   "display_name": "Python 3",
   "language": "python",
   "name": "python3"
  },
  "language_info": {
   "codemirror_mode": {
    "name": "ipython",
    "version": 3
   },
   "file_extension": ".py",
   "mimetype": "text/x-python",
   "name": "python",
   "nbconvert_exporter": "python",
   "pygments_lexer": "ipython3",
   "version": "3.7.1"
  }
 },
 "nbformat": 4,
 "nbformat_minor": 2
}
