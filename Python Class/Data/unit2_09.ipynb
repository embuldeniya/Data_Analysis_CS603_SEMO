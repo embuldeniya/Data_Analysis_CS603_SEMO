{
 "cells": [
  {
   "cell_type": "markdown",
   "metadata": {},
   "source": [
    "## Reading and Writing Files\n",
    "<p>\n",
    "reference\n",
    "https://www.datacamp.com/community/tutorials/reading-writing-files-python\n",
    "</p>"
   ]
  },
  {
   "cell_type": "markdown",
   "metadata": {},
   "source": [
    "### Flat Files Versus Text Files\n",
    "<p>\n",
    "Flat files are data files that contain records with no structured relationships between the records and there's also no structure for indexing\n",
    "<br>A flat file can be a plain text file or a binary file. In the former case, the files usually contain one record per line:</br>    \n",
    "<br>-Comma Separated Values (CSV) files, which contain data values that are separated by ,</br>\n",
    "<br>-Delimited files, which contain data values with a user-specified delimiter. This can be a \\t tab or a symbol (#,&,||)</br> \n",
    "</p>"
   ]
  },
  {
   "cell_type": "markdown",
   "metadata": {},
   "source": [
    "### Python File Objects\n",
    "- The io module is the default module for accessing files \n",
    "- open(filename, access_mode) that returns a file object\n",
    "- text files have an End-Of-Line (EOL) character to indicate each line's termination\n",
    "- binary file returns bytes"
   ]
  },
  {
   "cell_type": "code",
   "execution_count": 34,
   "metadata": {},
   "outputs": [
    {
     "name": "stdout",
     "output_type": "stream",
     "text": [
      "NAM\n",
      "E,ADDRESS,EMAIL\n",
      "AB\n",
      "C,CITY A,abc@xyz.com\n",
      "LMN,CITY B,lmn@xyz.com\n",
      "PQR,CITY C,pqr@xyz.com\n",
      "NAME,ADDRESS,EMAIL\n",
      "ABC,CITY A,abc@xyz.com\n",
      "LMN,CITY B,lmn@xyz.com\n",
      "PQR,CITY C,pqr@xyz.com\n"
     ]
    },
    {
     "data": {
      "text/plain": [
       "['NAME,ADDRESS,EMAIL\\n',\n",
       " 'ABC,CITY A,abc@xyz.com\\n',\n",
       " 'LMN,CITY B,lmn@xyz.com\\n',\n",
       " 'PQR,CITY C,pqr@xyz.com\\n',\n",
       " 'NAME,ADDRESS,EMAIL\\n',\n",
       " 'ABC,CITY A,abc@xyz.com\\n',\n",
       " 'LMN,CITY B,lmn@xyz.com\\n',\n",
       " 'PQR,CITY C,pqr@xyz.com']"
      ]
     },
     "execution_count": 34,
     "metadata": {},
     "output_type": "execute_result"
    }
   ],
   "source": [
    "my_file_handle=open(\"C:\\\\Users\\\\ziping\\\\Documents\\\\Spring2019\\\\CS433\\\\datafile\\\\firstfile.csv\", \"r\")\n",
    "#texts = my_file_handle.read() #read all lines and returns as a str\n",
    "print(my_file_handle.read(3)) #read the first three characters\n",
    "line = my_file_handle.readline().rstrip() #read the remaining characters in the line and remove the trailing \\n\n",
    "print(line)\n",
    "print(my_file_handle.readline(2)) #read the first two letters of the nextline\n",
    "for line in my_file_handle: #print the remaining lines\n",
    "    print(line.rstrip())\n",
    "my_file_handle.close()\n",
    "my_file_handle=open(\"C:\\\\Users\\\\ziping\\\\Documents\\\\Spring2019\\\\CS433\\\\datafile\\\\firstfile.csv\", \"r\")\n",
    "lines = my_file_handle.readlines() #readlines return list\n",
    "lines"
   ]
  },
  {
   "cell_type": "markdown",
   "metadata": {},
   "source": [
    "### Writing to a file: You can use three methods to write to a file in Python\n",
    "- write(string) (for text) or \n",
    "- write(byte_string) (for binary)\n",
    "- writelines(list)"
   ]
  },
  {
   "cell_type": "code",
   "execution_count": 35,
   "metadata": {},
   "outputs": [],
   "source": [
    "new_file=open(\"C:\\\\Users\\\\ziping\\\\Documents\\\\Spring2019\\\\CS433\\\\datafile\\\\filew.txt\", mode=\"w\",encoding=\"utf-8\")\n",
    "new_file.write(\"Writing to a new file\\n\")\n",
    "new_file.write(\"Writing to a new file\\n\")\n",
    "new_file.write(\"Writing to a new file\\n\")\n",
    "new_file.close()"
   ]
  },
  {
   "cell_type": "code",
   "execution_count": 36,
   "metadata": {},
   "outputs": [],
   "source": [
    "fruits=[\"Orange\\n\",\"Banana\\n\",\"Apple\\n\"]\n",
    "new_file=open(\"C:\\\\Users\\\\ziping\\\\Documents\\\\Spring2019\\\\CS433\\\\datafile\\\\filew.txt\",mode=\"a+\",encoding=\"utf-8\")\n",
    "new_file.writelines(fruits)\n",
    "for line in new_file:\n",
    "    print(line) #reading from a file does not print anything because the file cursor is at the end of the file\n",
    "new_file.close()"
   ]
  },
  {
   "cell_type": "markdown",
   "metadata": {},
   "source": [
    "- tell() method of file object tells at which byte the file cursor is located\n",
    "- seek(offset,reference_point) the reference points are 0 (the beginning of the file and is default), 1 (the current position of file) and 2 (the end of the file)"
   ]
  },
  {
   "cell_type": "code",
   "execution_count": 41,
   "metadata": {},
   "outputs": [
    {
     "name": "stdout",
     "output_type": "stream",
     "text": [
      "Tell the byte at which the file cursor is: 184\n",
      "Writing to a new file\n",
      "Writing to a new file\n",
      "Writing to a new file\n",
      "Orange\n",
      "Banana\n",
      "Apple\n",
      "Audi\n",
      "Bentely\n",
      "Toyota\n",
      "Audi\n",
      "Bentely\n",
      "Toyota\n",
      "Audi\n",
      "Bentely\n",
      "Toyota\n",
      "Audi\n",
      "Bentely\n",
      "Toyota\n",
      "read from the fourth character of the line:  ing to a new file\n",
      "\n"
     ]
    }
   ],
   "source": [
    "cars=[\"Audi\\n\",\"Bentely\\n\",\"Toyota\\n\"]\n",
    "new_file=open(\"C:\\\\Users\\\\ziping\\\\Documents\\\\Spring2019\\\\CS433\\\\datafile\\\\filew.txt\",mode=\"a+\",encoding=\"utf-8\")\n",
    "for car in cars:\n",
    "    new_file.write(car)\n",
    "print(\"Tell the byte at which the file cursor is:\",new_file.tell()) \n",
    "new_file.seek(0) #To set the cursor at the beginning, use the seek()\n",
    "for line in new_file:\n",
    "    print(line.rstrip())\n",
    "new_file.seek(4,0)\n",
    "print(\"read from the fourth character of the line: \", new_file.readline())\n",
    "new_file.close()"
   ]
  },
  {
   "cell_type": "code",
   "execution_count": 43,
   "metadata": {},
   "outputs": [
    {
     "name": "stdout",
     "output_type": "stream",
     "text": [
      "Writing to a new file\n",
      "Writing to a new file\n",
      "Writing to a new file\n",
      "Orange\n",
      "Banana\n"
     ]
    }
   ],
   "source": [
    "file=open(\"C:\\\\Users\\\\ziping\\\\Documents\\\\Spring2019\\\\CS433\\\\datafile\\\\filew.txt\",\"r\")\n",
    "for index in range(5):\n",
    "    line=next(file)\n",
    "    print(line.rstrip())\n",
    "file.close()"
   ]
  },
  {
   "cell_type": "markdown",
   "metadata": {},
   "source": [
    "### json file: Javascript Object Notation (JSON)"
   ]
  },
  {
   "cell_type": "code",
   "execution_count": 44,
   "metadata": {},
   "outputs": [],
   "source": [
    "import json\n",
    "my_data=[\"Hafsa Jabeen\",\"Reading and writing files in python\",78546]\n",
    "json.dumps(my_data)\n",
    "with open(\"C:\\\\Users\\\\ziping\\\\Documents\\\\Spring2019\\\\CS433\\\\datafile\\\\jsonfile.json\",\"w\") as f:\n",
    "    json.dump(my_data,f)\n",
    "f.close()"
   ]
  },
  {
   "cell_type": "code",
   "execution_count": 50,
   "metadata": {},
   "outputs": [
    {
     "name": "stdout",
     "output_type": "stream",
     "text": [
      "[{'color': 'black', 'category': 'hue', 'type': 'primary', 'code': {'rgba': [255, 255, 255, 1], 'hex': '#000'}}, {'color': 'white', 'category': 'value', 'code': {'rgba': [0, 0, 0, 1], 'hex': '#FFF'}}, {'color': 'red', 'category': 'hue', 'type': 'primary', 'code': {'rgba': [255, 0, 0, 1], 'hex': '#FF0'}}, {'color': 'blue', 'category': 'hue', 'type': 'primary', 'code': {'rgba': [0, 0, 255, 1], 'hex': '#00F'}}, {'color': 'yellow', 'category': 'hue', 'type': 'primary', 'code': {'rgba': [255, 255, 0, 1], 'hex': '#FF0'}}, {'color': 'green', 'category': 'hue', 'type': 'secondary', 'code': {'rgba': [0, 255, 0, 1], 'hex': '#0F0'}}]\n"
     ]
    }
   ],
   "source": [
    "with open(\"C:\\\\Users\\\\ziping\\\\Documents\\\\Spring2019\\\\CS433\\\\datafile\\\\color.json\",\"r\") as f:\n",
    "    jsondata=json.load(f)\n",
    "    print(jsondata)\n",
    "f.close()"
   ]
  },
  {
   "cell_type": "markdown",
   "metadata": {},
   "source": [
    "### buffering: pass an integer to buffering to set the buffering policy:\n",
    "- 0 to switch off buffering (only allowed in binary mode)\n",
    "- 1 to select line buffering (only usable in text mode)\n",
    "- Any integer that is bigger than 1 to indicate the size in bytes of a fixed-size chunk buffer\n",
    "- Use negative values to set the buffering policy to the system default"
   ]
  },
  {
   "cell_type": "code",
   "execution_count": 55,
   "metadata": {},
   "outputs": [
    {
     "name": "stdout",
     "output_type": "stream",
     "text": [
      "Default buffer size: 8192\n",
      "True\n",
      "b'Writing to a new file\\r\\n'\n",
      "b'Writing to a new file\\r\\n'\n",
      "b'Writing to a new file\\r\\n'\n",
      "b'Orange\\r\\n'\n",
      "b'Banana\\r\\n'\n",
      "b'Apple\\r\\n'\n",
      "b'Audi\\r\\n'\n",
      "b'Bentely\\r\\n'\n",
      "b'Toyota\\r\\n'\n",
      "b'Audi\\r\\n'\n",
      "b'Bentely\\r\\n'\n",
      "b'Toyota\\r\\n'\n",
      "b'Audi\\r\\n'\n",
      "b'Bentely\\r\\n'\n",
      "b'Toyota\\r\\n'\n",
      "b'Audi\\r\\n'\n",
      "b'Bentely\\r\\n'\n",
      "b'Toyota\\r\\n'\n"
     ]
    }
   ],
   "source": [
    "import io\n",
    "print(\"Default buffer size:\",io.DEFAULT_BUFFER_SIZE)\n",
    "file=open(\"C:\\\\Users\\\\ziping\\\\Documents\\\\Spring2019\\\\CS433\\\\datafile\\\\filew.txt\",mode=\"r\",buffering=1)\n",
    "print(file.line_buffering)\n",
    "file_contents=file.buffer\n",
    "for line in file_contents:\n",
    "    print(line)\n",
    "file.close()"
   ]
  },
  {
   "cell_type": "markdown",
   "metadata": {},
   "source": [
    "### Encoding: represents the character encoding, which is the coding system that uses bits and byte to represent a character"
   ]
  },
  {
   "cell_type": "code",
   "execution_count": 56,
   "metadata": {},
   "outputs": [
    {
     "name": "stdout",
     "output_type": "stream",
     "text": [
      "Default encoding: cp1252\n",
      "New encoding: utf-8\n"
     ]
    }
   ],
   "source": [
    "with open(\"C:\\\\Users\\\\ziping\\\\Documents\\\\Spring2019\\\\CS433\\\\datafile\\\\filew.txt\",mode=\"r\") as file:\n",
    "    print(\"Default encoding:\",file.encoding)\n",
    "    file.close()\n",
    "##change encoding to utf-8\n",
    "with open(\"C:\\\\Users\\\\ziping\\\\Documents\\\\Spring2019\\\\CS433\\\\datafile\\\\filew.txt\",mode=\"r\",encoding=\"utf-8\") as file:\n",
    "    print(\"New encoding:\",file.encoding)\n",
    "    file.close()"
   ]
  }
 ],
 "metadata": {
  "kernelspec": {
   "display_name": "Python 3",
   "language": "python",
   "name": "python3"
  },
  "language_info": {
   "codemirror_mode": {
    "name": "ipython",
    "version": 3
   },
   "file_extension": ".py",
   "mimetype": "text/x-python",
   "name": "python",
   "nbconvert_exporter": "python",
   "pygments_lexer": "ipython3",
   "version": "3.7.1"
  }
 },
 "nbformat": 4,
 "nbformat_minor": 2
}
