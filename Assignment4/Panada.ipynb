{
 "cells": [
  {
   "cell_type": "markdown",
   "metadata": {},
   "source": [
    "<h1> Assignment 4 for CS 603</h1>\n",
    "\n",
    "<h3>Mohamed Fazmi Ahamed Fizer </h3>\n",
    "<h3>Hari Charan Kaveri </h3>\n",
    "<h3>Tharinda Embuldeniya </h3>"
   ]
  },
  {
   "cell_type": "code",
   "execution_count": 53,
   "metadata": {},
   "outputs": [],
   "source": [
    "#SP500.csv"
   ]
  },
  {
   "cell_type": "code",
   "execution_count": 54,
   "metadata": {},
   "outputs": [],
   "source": [
    "import pandas as pd\n",
    "import datetime as dt\n",
    "\n",
    "df = pd.read_csv('SP500.csv' ,delimiter= ',')\n",
    "df ['Date'] = pd.to_datetime(df['Date'])\n",
    "df.loc [0:, \"Gains/Loss\"] = df ['Close'] - df['Open']"
   ]
  },
  {
   "cell_type": "code",
   "execution_count": 55,
   "metadata": {},
   "outputs": [],
   "source": [
    "# Sort daily gain/loss for Jan of 2018 and \n",
    "jan_18 = df[(df['Date'] >= \"2018-1-1\") & (df['Date'] < \"2018-2-1\")]\n",
    "sort = jan_18.sort_values([\"Gains/Loss\"], ascending=False)\n",
    "#store the result back to a .csv file\n",
    "sort.to_csv(\"jan_18.csv\", columns=['Date' , 'Gains/Loss'], index = False)"
   ]
  },
  {
   "cell_type": "code",
   "execution_count": 56,
   "metadata": {},
   "outputs": [],
   "source": [
    "#Find all of the daily gains reach 20% and above and display them"
   ]
  },
  {
   "cell_type": "code",
   "execution_count": 57,
   "metadata": {},
   "outputs": [
    {
     "name": "stdout",
     "output_type": "stream",
     "text": [
      "\n",
      "Daily Gains Reach 20% and above\n",
      "Empty DataFrame\n",
      "Columns: [Date, Open, Close, Gains/Loss, Percentage]\n",
      "Index: []\n",
      "\n",
      "Daily Gains Reach 9% and above\n",
      "            Date        Open        Close  Gains/Loss  Percentage\n",
      "9499  1987-10-21  236.830002   258.380005   21.550003    9.099355\n",
      "14789 2008-10-13  912.750000  1003.349976   90.599976    9.926045\n",
      "14800 2008-10-28  848.919983   940.510010   91.590027   10.789006\n"
     ]
    }
   ],
   "source": [
    "t1 = df.copy(deep= True)\n",
    "t1.loc [0:, \"Percentage\"] = (t1 ['Gains/Loss'] /t1 ['Open']) * 100\n",
    "\n",
    "print (\"\\nDaily Gains Reach 20% and above\")\n",
    "t5 = t1[(t1['Percentage'] >= 20)]\n",
    "print (t5[[\"Date\", \"Open\",\"Close\", \"Gains/Loss\", \"Percentage\"]])\n",
    "\n",
    "\n",
    "print (\"\\nDaily Gains Reach 9% and above\")\n",
    "t6 = t1[(t1['Percentage'] >= 9)]\n",
    "\n",
    "print (t6[[\"Date\", \"Open\",\"Close\", \"Gains/Loss\", \"Percentage\"]])"
   ]
  },
  {
   "cell_type": "code",
   "execution_count": 58,
   "metadata": {},
   "outputs": [
    {
     "name": "stdout",
     "output_type": "stream",
     "text": [
      "Highest daily Gain is 91.59002699999996 from 2008-10-28\n",
      "Highest daily Loss is -104.01000999999997 from 2018-02-08\n"
     ]
    }
   ],
   "source": [
    "#the highest daily gain and its date\n",
    "print(\"Highest daily Gain is {0} from {1}\".format(df['Gains/Loss'].max(),df.iloc[df['Gains/Loss'].idxmax(), 0].date()))\n",
    "\n",
    "#the highest daily loss and its date, \n",
    "print(\"Highest daily Loss is {0} from {1}\".format(df['Gains/Loss'].min(),df.iloc[df['Gains/Loss'].idxmin(), 0].date()))"
   ]
  },
  {
   "cell_type": "code",
   "execution_count": 59,
   "metadata": {},
   "outputs": [
    {
     "name": "stdout",
     "output_type": "stream",
     "text": [
      "Most daily Volume Transaction 11456230000 from 2008-10-10\n"
     ]
    }
   ],
   "source": [
    "#the most daily transaction volume and its dated\n",
    "print(\"Most daily Volume Transaction {0} from {1}\".format(df['Volume'].max(),df.iloc[df['Volume'].idxmax(), 0].date()))"
   ]
  },
  {
   "cell_type": "code",
   "execution_count": 60,
   "metadata": {},
   "outputs": [],
   "source": [
    "#a monthly report for year 2017-2018, which has monthly average"
   ]
  },
  {
   "cell_type": "code",
   "execution_count": 61,
   "metadata": {},
   "outputs": [],
   "source": [
    "def CalAver(m):\n",
    "    print (\"{0} to {1} \".format(m.iloc[0,0].date(),m.iloc[-1,0].date()))\n",
    "    print (\"Open Average = \",m[\"Open\"].mean() )\n",
    "    print (\"Close Average = \",m[\"Close\"].mean() )\n",
    "    print (\"Tran. Vol Average = \",m[\"Volume\"].mean()) \n",
    "    print (\"Gain/Loss Average = \",m['Gains/Loss'].mean())\n",
    "   \n",
    "    \n",
    "    print (\"\\n === Open Price Range === \")\n",
    "    print (\"{0} -  {1}\".format(m[\"Open\"].min(),m[\"Open\"].max()))\n",
    "    print (\"\\n\")\n",
    "    \n",
    "    return m['Gains/Loss'].sum() "
   ]
  },
  {
   "cell_type": "code",
   "execution_count": 62,
   "metadata": {},
   "outputs": [
    {
     "name": "stdout",
     "output_type": "stream",
     "text": [
      "Jan\n",
      "2017-01-03 to 2017-01-31 \n",
      "Open Average =  2273.5319704000003\n",
      "Close Average =  2275.1159788999994\n",
      "Tran. Vol Average =  3524159000.0\n",
      "Gain/Loss Average =  1.584008500000141\n",
      "\n",
      " === Open Price Range === \n",
      "2251.570068 -  2299.02002\n",
      "\n",
      "\n",
      "Feb\n",
      "2017-02-01 to 2017-02-28 \n",
      "Open Average =  2325.5852821052626\n",
      "Close Average =  2329.9105418421054\n",
      "Tran. Vol Average =  3640127368.4210525\n",
      "Gain/Loss Average =  4.32525973684204\n",
      "\n",
      " === Open Price Range === \n",
      "2276.689941 -  2367.5\n",
      "\n",
      "\n",
      "Mar\n",
      "2017-03-01 to 2017-03-31 \n",
      "Open Average =  2366.868705434783\n",
      "Close Average =  2366.822170173913\n",
      "Tran. Vol Average =  3545555217.3913045\n",
      "Gain/Loss Average =  -0.04653526086954314\n",
      "\n",
      " === Open Price Range === \n",
      "2329.110107 -  2394.75\n",
      "\n",
      "\n",
      "Apr\n",
      "2017-04-03 to 2017-04-28 \n",
      "Open Average =  2360.1500050526315\n",
      "Close Average =  2359.3094545789477\n",
      "Tran. Vol Average =  3435035263.1578946\n",
      "Gain/Loss Average =  -0.8405504736842168\n",
      "\n",
      " === Open Price Range === \n",
      "2332.6201170000004 -  2393.679932\n",
      "\n",
      "\n",
      "May\n",
      "2017-05-01 to 2017-05-31 \n",
      "Open Average =  2394.4700039090912\n",
      "Close Average =  2395.345880681818\n",
      "Tran. Vol Average =  3618507727.2727275\n",
      "Gain/Loss Average =  0.8758767727272037\n",
      "\n",
      " === Open Price Range === \n",
      "2354.689941 -  2415.6298829999996\n",
      "\n",
      "\n",
      "Jun\n",
      "2017-06-01 to 2017-06-30 \n",
      "Open Average =  2434.6836048181817\n",
      "Close Average =  2433.985451454546\n",
      "Tran. Vol Average =  3681931363.6363635\n",
      "Gain/Loss Average =  -0.6981533636363689\n",
      "\n",
      " === Open Price Range === \n",
      "2415.649902 -  2450.659912\n",
      "\n",
      "\n",
      "Jul\n",
      "2017-07-03 to 2017-07-31 \n",
      "Open Average =  2453.039489799999\n",
      "Close Average =  2454.1025025\n",
      "Tran. Vol Average =  3158470000.0\n",
      "Gain/Loss Average =  1.0630126999999903\n",
      "\n",
      " === Open Price Range === \n",
      "2413.52002 -  2482.76001\n",
      "\n",
      "\n",
      "Aug\n",
      "2017-08-01 to 2017-08-31 \n",
      "Open Average =  2456.7499682608695\n",
      "Close Average =  2456.2230702173906\n",
      "Tran. Vol Average =  3070262173.9130435\n",
      "Gain/Loss Average =  -0.5268980434781715\n",
      "\n",
      " === Open Price Range === \n",
      "2425.5 -  2480.3798829999996\n",
      "\n",
      "\n",
      "Sep\n",
      "2017-09-01 to 2017-09-29 \n",
      "Open Average =  2491.3324952499997\n",
      "Close Average =  2492.8410400000002\n",
      "Tran. Vol Average =  3316899000.0\n",
      "Gain/Loss Average =  1.5085447500000555\n",
      "\n",
      " === Open Price Range === \n",
      "2462.25 -  2509.959961\n",
      "\n",
      "\n",
      "Oct\n",
      "2017-10-02 to 2017-10-31 \n",
      "Open Average =  2555.807273136364\n",
      "Close Average =  2556.99727\n",
      "Tran. Vol Average =  3221435000.0\n",
      "Gain/Loss Average =  1.1899968636363487\n",
      "\n",
      " === Open Price Range === \n",
      "2521.199951 -  2578.080078\n",
      "\n",
      "\n",
      "Nov\n",
      "2017-11-01 to 2017-11-30 \n",
      "Open Average =  2590.306163952381\n",
      "Close Average =  2593.6057361904764\n",
      "Tran. Vol Average =  3484440952.3809524\n",
      "Gain/Loss Average =  3.299572238095217\n",
      "\n",
      " === Open Price Range === \n",
      "2569.449951 -  2633.929932\n",
      "\n",
      "\n",
      "Dec\n",
      "2017-12-01 to 2017-12-29 \n",
      "Open Average =  2666.06999515\n",
      "Close Average =  2664.3405273\n",
      "Tran. Vol Average =  3262559500.0\n",
      "Gain/Loss Average =  -1.7294678499999692\n",
      "\n",
      " === Open Price Range === \n",
      "2626.23999 -  2692.709961\n",
      "\n",
      "\n"
     ]
    }
   ],
   "source": [
    "mon = [\"Jan\", \"Feb\", \"Mar\", \"Apr\", \"May\", \"Jun\", \"Jul\", \"Aug\",\"Sep\", \"Oct\", \"Nov\",\"Dec\"]  \n",
    "for i in range (1,13):\n",
    "    if (i == 12):\n",
    "        print (mon [i-1])\n",
    "        month = df[(df['Date'] >= '2017-{0}-01'.format(i)) & (df['Date'] < '2018-01-01')]\n",
    "        CalAver(month)\n",
    "    else:\n",
    "        print (mon [i-1])\n",
    "        month = df[(df['Date'] >= '2017-{0}-01'.format(i)) & (df['Date'] < '2017-{0}-01'.format(i+1))]\n",
    "        CalAver(month)\n",
    "        "
   ]
  },
  {
   "cell_type": "code",
   "execution_count": 63,
   "metadata": {},
   "outputs": [],
   "source": [
    "# a query to find all of the months which have certain range of open prices"
   ]
  },
  {
   "cell_type": "code",
   "execution_count": null,
   "metadata": {},
   "outputs": [
    {
     "name": "stdout",
     "output_type": "stream",
     "text": [
      "\n",
      "2017/18 Months which have certain range of Open prices\n",
      "Open Price Range from 2400 to 2500\n",
      "Months:  ['May', 'Jun', 'Jul', 'Aug', 'Sep']\n"
     ]
    }
   ],
   "source": [
    "def openRange(x,y):\n",
    "    t3 = df[(df['Date'] >= \"2017-1-1\") & (df['Date'] < \"2018-1-1\")]\n",
    "    test = t3[(t3['Open'] >= x) & (t3['Open'] < y)]\n",
    "\n",
    "    mt = (test[\"Date\"].dt.month).unique()\n",
    "  \n",
    "    mon = [\"Jan\", \"Feb\", \"Mar\", \"Apr\", \"May\", \"Jun\", \"Jul\", \"Aug\",\"Sep\", \"Oct\", \"Nov\",\"Dec\"]  \n",
    "\n",
    "    lst =  [mon[x-1] for x in mt] \n",
    "    \n",
    "    \n",
    "    print (\"\\n2017/18 Months which have certain range of Open prices\")\n",
    "    print (\"Open Price Range from {0} to {1}\".format(x,y))\n",
    "    print (\"Months: \",lst)\n",
    "    \n",
    "    \n",
    "openRange(2400,2500)\n",
    "\n",
    "x = int(input (\"\\nEnter the min open range\"))\n",
    "y = int(input (\"Enter the max open range\"))\n",
    "\n",
    "openRange (x,y)\n",
    "\n",
    "\n",
    "    "
   ]
  },
  {
   "cell_type": "code",
   "execution_count": null,
   "metadata": {},
   "outputs": [],
   "source": [
    "#a yearly report which has annual average \n",
    "pro_y = pd.DataFrame(columns=[\"Year\", \"Total\"])\n",
    "for i in range (1950,2019):\n",
    "    print (i)\n",
    "    month = df[(df['Date'] >= '{0}-01-01'.format(i)) & (df['Date'] < '{0}-01-01'.format(i+1))]\n",
    "    ot= CalAver(month)\n",
    "    pro_y = pro_y.append({'Year': i , \"Total\": ot}, ignore_index =True)"
   ]
  },
  {
   "cell_type": "code",
   "execution_count": null,
   "metadata": {},
   "outputs": [],
   "source": [
    "# the most profitable year"
   ]
  },
  {
   "cell_type": "code",
   "execution_count": null,
   "metadata": {},
   "outputs": [],
   "source": [
    "print(\"Most Profitable Year is {0}\".format(int(pro_y.iloc[pro_y['Total'].idxmax(), 0])))"
   ]
  },
  {
   "cell_type": "code",
   "execution_count": null,
   "metadata": {},
   "outputs": [],
   "source": [
    "# five year report \n",
    "\n",
    "pro = pd.DataFrame(columns=[\"Year\", \"Total\"])\n",
    "for i in range (1950,2019,5):\n",
    "    print (i)\n",
    "    month = df[(df['Date'] >= '{0}-01-01'.format(i)) & (df['Date'] < '{0}-01-01'.format(i+5))]\n",
    "    out = CalAver(month)\n",
    "    pro = pro.append({'Year': i , \"Total\": out}, ignore_index =True)\n",
    "\n"
   ]
  },
  {
   "cell_type": "code",
   "execution_count": null,
   "metadata": {},
   "outputs": [],
   "source": [
    "#the most profitable five year"
   ]
  },
  {
   "cell_type": "code",
   "execution_count": null,
   "metadata": {},
   "outputs": [],
   "source": [
    "fiv =int(pro.iloc[pro['Total'].idxmax(), 0])\n",
    "print(\"Most Profitable 5 Year range from {0}, {1}, {2}, {3} & {4}\".format(fiv, fiv+1,fiv+2,fiv+3,fiv+4))"
   ]
  },
  {
   "cell_type": "code",
   "execution_count": null,
   "metadata": {},
   "outputs": [],
   "source": []
  },
  {
   "cell_type": "code",
   "execution_count": null,
   "metadata": {},
   "outputs": [],
   "source": [
    "#real estate transaction .csv"
   ]
  },
  {
   "cell_type": "code",
   "execution_count": null,
   "metadata": {},
   "outputs": [],
   "source": [
    "import pandas as pd\n",
    "\n",
    "df = pd.read_csv('Sacramentorealestatetransactions.csv',delimiter= ',')\n",
    "group = df.groupby(['city',\"type\"])\n",
    "#group.describe()"
   ]
  },
  {
   "cell_type": "code",
   "execution_count": null,
   "metadata": {},
   "outputs": [],
   "source": [
    "print (\"Highest Transaction for each City & by Type\")\n",
    "h1 = group['price'].max()\n",
    "print (h1.to_string())"
   ]
  },
  {
   "cell_type": "code",
   "execution_count": null,
   "metadata": {},
   "outputs": [],
   "source": [
    "print (\"Median Transaction for each City & by Type\")\n",
    "h2 = group['price'].median()\n",
    "print (h2.to_string())"
   ]
  },
  {
   "cell_type": "code",
   "execution_count": null,
   "metadata": {},
   "outputs": [],
   "source": [
    "print (\"Lowest Transaction for each City & by Type\")\n",
    "h3 = group['price'].min()\n",
    "print (h3.to_string())"
   ]
  },
  {
   "cell_type": "code",
   "execution_count": null,
   "metadata": {},
   "outputs": [],
   "source": [
    "zipcode = df.groupby(['zip','type'])"
   ]
  },
  {
   "cell_type": "code",
   "execution_count": null,
   "metadata": {},
   "outputs": [],
   "source": [
    "print(\"Average Transaction based on each Zipcode & by Type\")\n",
    "h4=zipcode['price'].mean()\n",
    "print (h4.to_string())"
   ]
  },
  {
   "cell_type": "code",
   "execution_count": null,
   "metadata": {},
   "outputs": [],
   "source": []
  }
 ],
 "metadata": {
  "kernelspec": {
   "display_name": "Python 3",
   "language": "python",
   "name": "python3"
  },
  "language_info": {
   "codemirror_mode": {
    "name": "ipython",
    "version": 3
   },
   "file_extension": ".py",
   "mimetype": "text/x-python",
   "name": "python",
   "nbconvert_exporter": "python",
   "pygments_lexer": "ipython3",
   "version": "3.7.3"
  }
 },
 "nbformat": 4,
 "nbformat_minor": 2
}
