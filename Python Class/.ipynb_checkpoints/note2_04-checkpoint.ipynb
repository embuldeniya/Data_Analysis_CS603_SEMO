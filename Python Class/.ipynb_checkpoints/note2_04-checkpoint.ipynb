{
 "cells": [
  {
   "cell_type": "code",
   "execution_count": 2,
   "metadata": {},
   "outputs": [
    {
     "name": "stdout",
     "output_type": "stream",
     "text": [
      "{1, 2, 3, 5}\n",
      "{1, 2, 3, 5, 6}\n",
      "{1, 2, 3, 6}\n",
      "union:  {1, 2, 3, 6, 7, 8, 9}\n",
      "intersection:  {1}\n",
      "difference:  {2, 3, 6, 7, 8, 9}\n"
     ]
    }
   ],
   "source": [
    "#items in a set must be immutable and hashable. This means that ints, floats, \n",
    "#strings, and tuples can be members of a set, but lists, dictionaries, and sets themselves can’t.\n",
    "x = set([1, 2, 3, 1, 3, 5])\n",
    "print(x)\n",
    "x.add(6)\n",
    "print(x)\n",
    "x.remove(5)\n",
    "print(x)\n",
    "y = set([1, 7, 8, 9])\n",
    "xuy=x | y #union\n",
    "print('union: ', xuy)\n",
    "xay = x & y  #intersection\n",
    "print('intersection: ', xay)\n",
    "xdy = x ^ y\n",
    "print('difference: ', xdy)\n",
    "#frozensets are immutable and hashable\n",
    "z = frozenset(xuy)\n",
    "#z.add(0)"
   ]
  }
 ],
 "metadata": {
  "kernelspec": {
   "display_name": "Python 3",
   "language": "python",
   "name": "python3"
  },
  "language_info": {
   "codemirror_mode": {
    "name": "ipython",
    "version": 3
   },
   "file_extension": ".py",
   "mimetype": "text/x-python",
   "name": "python",
   "nbconvert_exporter": "python",
   "pygments_lexer": "ipython3",
   "version": "3.7.0"
  }
 },
 "nbformat": 4,
 "nbformat_minor": 2
}
