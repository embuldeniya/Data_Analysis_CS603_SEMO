{
 "cells": [
  {
   "cell_type": "code",
   "execution_count": 9,
   "metadata": {},
   "outputs": [],
   "source": [
    "import pandas as pd\n",
    "import numpy as np\n",
    "from functools import reduce"
   ]
  },
  {
   "cell_type": "code",
   "execution_count": 11,
   "metadata": {},
   "outputs": [],
   "source": [
    "df = pd.read_csv('BL-Flickr-Images-Book.csv')"
   ]
  },
  {
   "cell_type": "code",
   "execution_count": 12,
   "metadata": {},
   "outputs": [],
   "source": [
    "aur = df['Author'].str.title()\n",
    "con = df['Contributors'].str.title()"
   ]
  },
  {
   "cell_type": "code",
   "execution_count": 13,
   "metadata": {},
   "outputs": [
    {
     "data": {
      "text/plain": [
       "0                                                 A. A.\n",
       "1                                             A., A. A.\n",
       "2                                             A., A. A.\n",
       "3                                             A., E. S.\n",
       "4                                             A., E. S.\n",
       "5                                             A., E. S.\n",
       "6                                             A., F. E.\n",
       "7                                         A., J.|A., J.\n",
       "8                                                Remaʿ.\n",
       "9                                                A., T.\n",
       "10                                                  NaN\n",
       "11                                         AALL, Jacob.\n",
       "12    AAR, Ermanno - pseud. [i.e. Luigi Giuseppe Oro...\n",
       "13                                                  NaN\n",
       "14                            ABATE, Giovanni Agostino.\n",
       "15                                    ABATI, Francesco.\n",
       "16                        ABBADIE, Antoine Thompson d'.\n",
       "17                        ABBADIE, Antoine Thompson d'.\n",
       "18    ABBAD Y LASIERRA, Agustín Íñigo - Bishop of...\n",
       "19                                     ABBATT, William.\n",
       "Name: Author, dtype: object"
      ]
     },
     "execution_count": 13,
     "metadata": {},
     "output_type": "execute_result"
    }
   ],
   "source": [
    "df['Author'].head(20)"
   ]
  },
  {
   "cell_type": "code",
   "execution_count": 14,
   "metadata": {},
   "outputs": [],
   "source": [
    "aur = aur.str.split('-').str[0]\n",
    "aur = aur.str.split('|').str[0]\n",
    "aur = aur.str.split('(').str[0]"
   ]
  },
  {
   "cell_type": "code",
   "execution_count": 15,
   "metadata": {},
   "outputs": [
    {
     "name": "stdout",
     "output_type": "stream",
     "text": [
      "0                                     A. A.\n",
      "1                                 A., A. A.\n",
      "2                                 A., A. A.\n",
      "3                                 A., E. S.\n",
      "4                                 A., E. S.\n",
      "5                                 A., E. S.\n",
      "6                                 A., F. E.\n",
      "7                                    A., J.\n",
      "8                                    Remaʿ.\n",
      "9                                    A., T.\n",
      "10                                      NaN\n",
      "11                             Aall, Jacob.\n",
      "12                            Aar, Ermanno \n",
      "13                                      NaN\n",
      "14                Abate, Giovanni Agostino.\n",
      "15                        Abati, Francesco.\n",
      "16            Abbadie, Antoine Thompson D'.\n",
      "17            Abbadie, Antoine Thompson D'.\n",
      "18      Abbad Y Lasierra, AgustíN ÍÑIgo \n",
      "19                         Abbatt, William.\n",
      "20                   Abbott, Thomas Eastoe.\n",
      "21                                      NaN\n",
      "22                                      NaN\n",
      "23               A'Beckett, Gilbert Abbott.\n",
      "24               A'Beckett, Gilbert Abbott.\n",
      "25               A'Beckett, Gilbert Abbott.\n",
      "26               A'Beckett, Gilbert Arthur \n",
      "27                                      NaN\n",
      "28                                      NaN\n",
      "29                  Abich, Wilhelm Hermann.\n",
      "                       ...                 \n",
      "8257                                    NaN\n",
      "8258                     Keddie, Henrietta.\n",
      "8259                       Moncreiff, John.\n",
      "8260                        Rowley, Samuel \n",
      "8261                                    NaN\n",
      "8262               Yates, William Joseph H.\n",
      "8263                     Marryat, Frederick\n",
      "8264                        Depoin, Joseph.\n",
      "8265                      Goldsmith, Oliver\n",
      "8266               Kidder, Charles Holland.\n",
      "8267                     Meredith, Susanna.\n",
      "8268                                    NaN\n",
      "8269                         Webster, John \n",
      "8270                                    NaN\n",
      "8271                           Brown, John \n",
      "8272                                    NaN\n",
      "8273                          Heron, Edith.\n",
      "8274                      Goldsmith, Oliver\n",
      "8275                    Sudermann, Hermann.\n",
      "8276                    Dana, James Dwight.\n",
      "8277                    Dana, James Dwight.\n",
      "8278                    Dana, James Dwight.\n",
      "8279                    Blok, Pieter Johan.\n",
      "8280                        Fabyan, Robert.\n",
      "8281                           Fordyce, T. \n",
      "8282     Giddy, Afterwards Gilbert, Davies.\n",
      "8283                       Glover, Stephen \n",
      "8284                        Lysons, Daniel \n",
      "8285                         Mackenzie, E. \n",
      "8286                                    NaN\n",
      "Name: Author, Length: 8287, dtype: object\n"
     ]
    }
   ],
   "source": [
    "print(aur)"
   ]
  },
  {
   "cell_type": "code",
   "execution_count": 16,
   "metadata": {},
   "outputs": [
    {
     "name": "stderr",
     "output_type": "stream",
     "text": [
      "/Users/techyouknow/anaconda3/lib/python3.7/site-packages/ipykernel_launcher.py:1: FutureWarning: The signature of `Series.to_csv` was aligned to that of `DataFrame.to_csv`, and argument 'header' will change its default value from False to True: please pass an explicit value to suppress this warning.\n",
      "  \"\"\"Entry point for launching an IPython kernel.\n"
     ]
    }
   ],
   "source": [
    "aur.to_csv('cleanfile.csv', encoding='utf-8')"
   ]
  },
  {
   "cell_type": "code",
   "execution_count": 17,
   "metadata": {},
   "outputs": [],
   "source": [
    "con = con.str.split('-').str[0]\n",
    "con = con.str.split('|').str[0]\n",
    "con = con.str.split('(').str[0]"
   ]
  },
  {
   "cell_type": "code",
   "execution_count": 18,
   "metadata": {},
   "outputs": [
    {
     "name": "stdout",
     "output_type": "stream",
     "text": [
      "0                          Forbes, Walter.\n",
      "1       Blaze De Bury, Marie Pauline Rose \n",
      "2       Blaze De Bury, Marie Pauline Rose \n",
      "3              Appleyard, Ernest Silvanus.\n",
      "4                      Broome, John Henry.\n",
      "5                      Broome, John Henry.\n",
      "6                  Ashley, Florence Emily.\n",
      "7                             Andrews, J. \n",
      "8                             Adams, Mary.\n",
      "9                            Oldham, John.\n",
      "10                          Carte, Samuel.\n",
      "11                             Aall, J. C.\n",
      "12                            S., L. G. D.\n",
      "13                  Witkamp, Pieter Harme.\n",
      "14                     Assereto, Giovanni.\n",
      "15                 Reade, William Winwood.\n",
      "16                        Radau, Rodolphe.\n",
      "17                        Radau, Rodolphe.\n",
      "18        Acosta Y Calbo, José Julian De.\n",
      "19                           André, John \n",
      "20                      Wrangham, Francis.\n",
      "21                  Barham, Thomas Foster \n",
      "22                          White, Joseph \n",
      "23                            Leech, John \n",
      "24                            Leech, John \n",
      "25                            Leech, John \n",
      "26             Mazzucato, Giovanni Andrea.\n",
      "27               Elliston, Robert William.\n",
      "28                        Duncan, William \n",
      "29                       Abich, AdelaïDe.\n",
      "                       ...                \n",
      "8257                     Mitchell, Joseph \n",
      "8258                    Ormthwaite, Honor.\n",
      "8259                                M., J.\n",
      "8260                                R., S.\n",
      "8261                        Moore, Edward \n",
      "8262                          Y., W. J. H.\n",
      "8263                        Hannay, David.\n",
      "8264                Le Charpentier, Henri.\n",
      "8265                  Bussey, George Moir.\n",
      "8266                  Burley, Sylvester W.\n",
      "8267                     Lloyd, Mary Anne.\n",
      "8268                      Starke, Mariana.\n",
      "8269                         Cringle, Tom.\n",
      "8270                         Hood, Thomas \n",
      "8271                       Garrick, David.\n",
      "8272                      Tourneur, Cyril.\n",
      "8273                 Rymer, James Malcolm.\n",
      "8274                    Robolsky, Hermann.\n",
      "8275                         Henkel, Lily.\n",
      "8276                 Brush, George Jarvis.\n",
      "8277               Dana, Edward Salisbury.\n",
      "8278                 Brush, George Jarvis.\n",
      "8279                   Bierstadt, Oscar A.\n",
      "8280                         Ellis, Henry \n",
      "8281                          Sykes, John \n",
      "8282                  Boase, Henry Samuel.\n",
      "8283                        Noble, Thomas.\n",
      "8284                     Gregson, Matthew.\n",
      "8285                             Ross, M. \n",
      "8286                   Bandinel, Bulkeley.\n",
      "Name: Contributors, Length: 8287, dtype: object\n"
     ]
    }
   ],
   "source": [
    "print(con)"
   ]
  },
  {
   "cell_type": "code",
   "execution_count": 19,
   "metadata": {},
   "outputs": [
    {
     "name": "stderr",
     "output_type": "stream",
     "text": [
      "/Users/techyouknow/anaconda3/lib/python3.7/site-packages/ipykernel_launcher.py:1: FutureWarning: The signature of `Series.to_csv` was aligned to that of `DataFrame.to_csv`, and argument 'header' will change its default value from False to True: please pass an explicit value to suppress this warning.\n",
      "  \"\"\"Entry point for launching an IPython kernel.\n"
     ]
    }
   ],
   "source": [
    "con.to_csv('cleanfile.csv', encoding='utf-8')"
   ]
  },
  {
   "cell_type": "code",
   "execution_count": null,
   "metadata": {},
   "outputs": [],
   "source": []
  },
  {
   "cell_type": "code",
   "execution_count": null,
   "metadata": {},
   "outputs": [],
   "source": []
  }
 ],
 "metadata": {
  "kernelspec": {
   "display_name": "Python 3",
   "language": "python",
   "name": "python3"
  },
  "language_info": {
   "codemirror_mode": {
    "name": "ipython",
    "version": 3
   },
   "file_extension": ".py",
   "mimetype": "text/x-python",
   "name": "python",
   "nbconvert_exporter": "python",
   "pygments_lexer": "ipython3",
   "version": "3.7.3"
  }
 },
 "nbformat": 4,
 "nbformat_minor": 2
}
