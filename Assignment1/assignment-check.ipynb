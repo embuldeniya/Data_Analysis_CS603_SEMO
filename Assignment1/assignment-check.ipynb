{
 "cells": [
  {
   "cell_type": "markdown",
   "metadata": {},
   "source": [
    "<H1> Assignment 1 for CS 603 </H1>\n",
    "\n",
    "<h2>Mohammed Fizer Fazmi </h2> \n",
    "<H2> Hari Charan Kaveri </h2>\n",
    "<H2> Tharinda Embuldeniya </h2>\n"
   ]
  },
  {
   "cell_type": "markdown",
   "metadata": {},
   "source": [
    "\n",
    "<h3> Exercise 1</h3>"
   ]
  },
  {
   "cell_type": "code",
   "execution_count": 1,
   "metadata": {},
   "outputs": [
    {
     "name": "stdout",
     "output_type": "stream",
     "text": [
      "4\n"
     ]
    }
   ],
   "source": [
    "def reverse (s):\n",
    "    return s[::-1]\n",
    "\n",
    "def word_len(str):\n",
    "    count = 0\n",
    "    for s1 in str:\n",
    "          if len(s1) >1 :\n",
    "           # rev = reverse (s1)\n",
    "            \n",
    "            #if (s1 == rev):\n",
    "                count +=1\n",
    "    return count\n",
    "\n",
    "print (word_len( ['charan', 'hari', 'abeca', '123321']))\n"
   ]
  },
  {
   "cell_type": "markdown",
   "metadata": {},
   "source": [
    "\n",
    "<h3> Execrise 2 </h3>\n"
   ]
  },
  {
   "cell_type": "code",
   "execution_count": 10,
   "metadata": {},
   "outputs": [
    {
     "name": "stdout",
     "output_type": "stream",
     "text": [
      "{'orange', 'grapes'}\n"
     ]
    }
   ],
   "source": [
    "def common_elem (lst1, lst2 ):\n",
    "    common = set (lst2) - (set (lst2) - set (lst1))\n",
    "    return common\n",
    "\n",
    "A = ['apple','orange','pears','grapes']\n",
    "B = ['grapes','kiwi','pineapple','orange']\n",
    "print (common_elem (A,B))\n"
   ]
  },
  {
   "cell_type": "markdown",
   "metadata": {},
   "source": [
    "<h3> Exercise 3 </h3>"
   ]
  },
  {
   "cell_type": "code",
   "execution_count": 3,
   "metadata": {},
   "outputs": [
    {
     "name": "stdout",
     "output_type": "stream",
     "text": [
      "{'a': 'b', 'c': 'd', 'e': 'f', 'g': 'h', 'i': 'j', 'k': 'l', 'm': 'n'}\n"
     ]
    }
   ],
   "source": [
    "def spilt_list (list):\n",
    "    return  dict(zip(list[::2], list[1::2]))\n",
    "dic1 = spilt_list ( ['a', 'b', 'c', 'd', 'e', 'f', 'g', 'h', 'i', 'j', 'k', 'l', 'm', 'n'])\n",
    "\n",
    "print (dic1)"
   ]
  },
  {
   "cell_type": "markdown",
   "metadata": {},
   "source": [
    "<h3> Exercise 4</h3>"
   ]
  },
  {
   "cell_type": "code",
   "execution_count": 5,
   "metadata": {},
   "outputs": [
    {
     "name": "stdout",
     "output_type": "stream",
     "text": [
      "[(5, 'apple')]\n",
      "[(5, 'apple'), (2, 'hh')]\n",
      "[(5, 'apple'), (2, 'hh'), (6, 'orange')]\n",
      "[(5, 'apple'), (2, 'hh'), (6, 'orange'), (4, 'pear')]\n",
      "[(5, 'apple'), (2, 'hh'), (6, 'orange'), (4, 'pear'), (5, 'grape')]\n",
      "orange\n"
     ]
    }
   ],
   "source": [
    "def most_word (list):\n",
    "    res =[]\n",
    "    for x in list :\n",
    "        res.append((len(x),x))\n",
    "        print (res)\n",
    "    res.sort()\n",
    "               \n",
    "    return res[-1][1]\n",
    "\n",
    "A = ['apple','hh','orange','pear','grape'] \n",
    "print(most_word(A))\n",
    "        "
   ]
  },
  {
   "cell_type": "markdown",
   "metadata": {},
   "source": [
    "<h3> Exercise 5 </h3>"
   ]
  },
  {
   "cell_type": "code",
   "execution_count": 5,
   "metadata": {
    "scrolled": true
   },
   "outputs": [
    {
     "name": "stdout",
     "output_type": "stream",
     "text": [
      "['fred', 'reed']\n"
     ]
    }
   ],
   "source": [
    "def common_value(dict1):\n",
    "    lst = dict1.values ()\n",
    "    import collections\n",
    "    print ([item for item, count in collections.Counter(lst).items() if count > 1])\n",
    "\n",
    "D = {'A': 'fred', 'B': 'james', 'C': 'reed', 'D': 'reed', 'F':'fred'}\n",
    "common_value(D)"
   ]
  },
  {
   "cell_type": "markdown",
   "metadata": {},
   "source": [
    "<h3> Exercise 6</h3>\n"
   ]
  },
  {
   "cell_type": "code",
   "execution_count": 6,
   "metadata": {
    "scrolled": false
   },
   "outputs": [
    {
     "name": "stdout",
     "output_type": "stream",
     "text": [
      "{'c': 600, 'a': 1000, 'd': 400, 'b': 600}\n"
     ]
    }
   ],
   "source": [
    "def comb_dic(dict1, dict2):\n",
    "    dict3 = { x: dict1.get(x,0)+ dict2.get(x,0) for x in set (dict1).union (dict2) }\n",
    "    return dict3\n",
    "\n",
    "d1 = {'a': 900, 'b': 600, 'c':400}\n",
    "d2 = {'a': 100, 'c': 200, 'd':400}\n",
    "\n",
    "print(comb_dic(d1,d2))\n"
   ]
  },
  {
   "cell_type": "markdown",
   "metadata": {},
   "source": [
    "<h3> Exercise 7 </h3>\n"
   ]
  },
  {
   "cell_type": "code",
   "execution_count": 7,
   "metadata": {},
   "outputs": [
    {
     "name": "stdout",
     "output_type": "stream",
     "text": [
      "[10, 20, 79, 96]\n"
     ]
    }
   ],
   "source": [
    "def tup_rem(lst, v):\n",
    "    lst.remove(v)\n",
    "    return lst\n",
    "\n",
    "rem = [(10),(20),(46),(79),(96)]\n",
    "\n",
    "tup_rem(rem,(46))\n"
   ]
  },
  {
   "cell_type": "markdown",
   "metadata": {},
   "source": [
    "<h3> Exercise 8 </h4>"
   ]
  },
  {
   "cell_type": "code",
   "execution_count": 6,
   "metadata": {},
   "outputs": [
    {
     "data": {
      "text/plain": [
       "[('james', 10), ('john', 20), ('naomi', 15), ('reed', 5)]"
      ]
     },
     "execution_count": 6,
     "metadata": {},
     "output_type": "execute_result"
    }
   ],
   "source": [
    "def Sort_Tup (lst):\n",
    "    return(sorted (lst, key = lambda x: x[0]))\n",
    "\n",
    "tup = [('james', 10), ('reed', 5), ('john', 20), ('naomi', 15)] \n",
    "\n",
    "Sort_Tup(tup)\n",
    "    "
   ]
  },
  {
   "cell_type": "code",
   "execution_count": null,
   "metadata": {},
   "outputs": [],
   "source": []
  }
 ],
 "metadata": {
  "kernelspec": {
   "display_name": "Python 3",
   "language": "python",
   "name": "python3"
  },
  "language_info": {
   "codemirror_mode": {
    "name": "ipython",
    "version": 3
   },
   "file_extension": ".py",
   "mimetype": "text/x-python",
   "name": "python",
   "nbconvert_exporter": "python",
   "pygments_lexer": "ipython3",
   "version": "3.7.1"
  }
 },
 "nbformat": 4,
 "nbformat_minor": 2
}
