{
 "cells": [
  {
   "cell_type": "markdown",
   "metadata": {},
   "source": [
    "### nametuple"
   ]
  },
  {
   "cell_type": "markdown",
   "metadata": {},
   "source": [
    "The standard tuple uses numerical indexes to access its members."
   ]
  },
  {
   "cell_type": "code",
   "execution_count": 18,
   "metadata": {},
   "outputs": [
    {
     "name": "stdout",
     "output_type": "stream",
     "text": [
      "Representation: ('Bob', 30, 'male')\n",
      "\n",
      "Field by index: Jane\n",
      "\n",
      "Fields by index:\n",
      "Bob is a 30 year old male\n",
      "Jane is a 29 year old female\n"
     ]
    }
   ],
   "source": [
    "bob = ('Bob', 30, 'male')\n",
    "print('Representation:', bob)\n",
    "\n",
    "jane = ('Jane', 29, 'female')\n",
    "print('\\nField by index:', jane[0])\n",
    "\n",
    "print('\\nFields by index:')\n",
    "for p in [ bob, jane ]:\n",
    "    print('%s is a %d year old %s' % p)"
   ]
  },
  {
   "cell_type": "markdown",
   "metadata": {},
   "source": [
    "A namedtuple assigns names, as well as the numerical index, to each member.\n",
    "\n",
    "namedtuple instances are just as memory efficient as regular tuples because they do not have per-instance dictionaries. Each kind of namedtuple is represented by its own class, created by using the namedtuple() factory function. The arguments are the name of the new class and a string containing the names of the elements."
   ]
  },
  {
   "cell_type": "code",
   "execution_count": 19,
   "metadata": {},
   "outputs": [
    {
     "name": "stdout",
     "output_type": "stream",
     "text": [
      "error\n",
      "error\n"
     ]
    }
   ],
   "source": [
    "import collections as cl\n",
    "from collections import namedtuple\n",
    "\n",
    "#Names are invalid if they are repeated or conflict with Python keywords\n",
    "try:\n",
    "    cl.namedtuple('Person', 'name class age gender')\n",
    "except (ValueError):\n",
    "    print('error')\n",
    "\n",
    "try:\n",
    "    cl.namedtuple('Person', 'name age gender age')\n",
    "except (ValueError):\n",
    "    print('error')"
   ]
  },
  {
   "cell_type": "markdown",
   "metadata": {},
   "source": [
    "In situations where a namedtuple is being created based on values outside of the control of the programm (such as to represent the rows returned by a database query, where the schema is not known in advance), set the rename option to True so the fields are renamed."
   ]
  },
  {
   "cell_type": "code",
   "execution_count": 20,
   "metadata": {},
   "outputs": [
    {
     "name": "stdout",
     "output_type": "stream",
     "text": [
      "('name', '_1', 'age', 'gender')\n",
      "('name', 'age', 'gender', '_3')\n"
     ]
    }
   ],
   "source": [
    "with_class = cl.namedtuple('Person', 'name class age gender', rename=True)\n",
    "print(with_class._fields)\n",
    "\n",
    "two_ages = cl.namedtuple('Person', 'name age gender age', rename=True)\n",
    "print(two_ages._fields)"
   ]
  },
  {
   "cell_type": "code",
   "execution_count": 22,
   "metadata": {},
   "outputs": [
    {
     "name": "stdout",
     "output_type": "stream",
     "text": [
      "Type of Person: <class 'type'>\n",
      "\n",
      "Representation: Person(name='Bob', age=30, gender='male')\n",
      "\n",
      "Field by name: Jane\n",
      "\n",
      "Fields by index:\n",
      "Bob is a 30 year old male\n",
      "Jane is a 29 year old female\n",
      "\n",
      "Accessing using getattr\n",
      "29\n"
     ]
    }
   ],
   "source": [
    "#Person = cl.namedtuple('Person', 'name age gender')\n",
    "Person = cl.namedtuple('Person', ['name', 'age', 'gender'])\n",
    "print('Type of Person:', type(Person))\n",
    "\n",
    "bob = Person(name='Bob', age=30, gender='male')\n",
    "print('\\nRepresentation:', bob)\n",
    "\n",
    "jane = Person(name='Jane', age=29, gender='female')\n",
    "print('\\nField by name:', jane.name)\n",
    "\n",
    "print('\\nFields by index:')\n",
    "for p in [ bob, jane ]:\n",
    "    print('%s is a %d year old %s' % p)\n",
    "\n",
    "print('\\nAccessing using getattr')\n",
    "print (getattr(jane,'age')) "
   ]
  },
  {
   "cell_type": "markdown",
   "metadata": {},
   "source": [
    "### Conversion Operations\n",
    "1. _make() :- This function is used to return a namedtuple() from the iterable passed as argument.\n",
    "\n",
    "2. _asdict() :- This function returns the OrdereDict() as constructed from the mapped values of namedtuple().\n",
    "\n",
    "3. using “**” (double star) operator :- This function is used to convert a dictionary into the namedtuple()."
   ]
  },
  {
   "cell_type": "code",
   "execution_count": 23,
   "metadata": {},
   "outputs": [
    {
     "name": "stdout",
     "output_type": "stream",
     "text": [
      "The namedtuple instance using iterable is  : \n",
      "Person(name='Alexi', age='17', gender='female')\n",
      "The OrderedDict instance using namedtuple is  : \n",
      "OrderedDict([('name', 'Jane'), ('age', 29), ('gender', 'female')])\n",
      "The namedtuple instance from dict is  : \n",
      "Person(name='Nancy', age=19, gender='female')\n"
     ]
    }
   ],
   "source": [
    "# initializing iterable  \n",
    "li = ['Alexi', '17', 'female' ] \n",
    "  \n",
    "# initializing dict \n",
    "di = { 'name' : \"Nancy\", 'age' : 19 , 'gender' : 'female' } \n",
    "\n",
    "# using _make() to return namedtuple() \n",
    "print (\"The namedtuple instance using iterable is  : \") \n",
    "print (Person._make(li)) \n",
    "  \n",
    "# using _asdict() to return an OrderedDict() \n",
    "print (\"The OrderedDict instance using namedtuple is  : \") \n",
    "print (jane._asdict()) \n",
    "  \n",
    "# using ** operator to return namedtuple from dictionary \n",
    "print (\"The namedtuple instance from dict is  : \") \n",
    "print (Person(**di)) "
   ]
  },
  {
   "cell_type": "code",
   "execution_count": 24,
   "metadata": {},
   "outputs": [
    {
     "name": "stdout",
     "output_type": "stream",
     "text": [
      "All the fields of person are : \n",
      "('name', 'age', 'gender')\n",
      "The modified namedtuple is : \n",
      "Person(name='William', age=30, gender='male')\n"
     ]
    }
   ],
   "source": [
    "# using _fields to display all the keynames of namedtuple() \n",
    "print (\"All the fields of person are : \") \n",
    "print (bob._fields) \n",
    "  \n",
    "# using _replace() to change the attribute values of namedtuple \n",
    "print (\"The modified namedtuple is : \") \n",
    "print(bob._replace(name = 'William')) "
   ]
  }
 ],
 "metadata": {
  "kernelspec": {
   "display_name": "Python 3",
   "language": "python",
   "name": "python3"
  },
  "language_info": {
   "codemirror_mode": {
    "name": "ipython",
    "version": 3
   },
   "file_extension": ".py",
   "mimetype": "text/x-python",
   "name": "python",
   "nbconvert_exporter": "python",
   "pygments_lexer": "ipython3",
   "version": "3.7.1"
  }
 },
 "nbformat": 4,
 "nbformat_minor": 2
}
