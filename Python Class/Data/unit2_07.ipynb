{
 "cells": [
  {
   "cell_type": "markdown",
   "metadata": {},
   "source": [
    "### Python OOP\n",
    "- https://www.tutorialspoint.com/python/python_classes_objects.htm"
   ]
  },
  {
   "cell_type": "code",
   "execution_count": 2,
   "metadata": {},
   "outputs": [
    {
     "name": "stdout",
     "output_type": "stream",
     "text": [
      "Name : Zara, Salary: 2000, Age: 21\n",
      "Name : Manni, Salary: 5000, Age: 25\n",
      "Total Employee: 2\n",
      "Does employee has age attribute?  False\n",
      "Employee.__doc__: Common base class for all employees\n",
      "Employee.__name__: Employee\n",
      "Employee.__module__: __main__\n",
      "Employee.__bases__: (<class 'object'>,)\n",
      "Employee.__dict__: {'__module__': '__main__', '__doc__': 'Common base class for all employees', 'empCount': 2, '__init__': <function Employee.__init__ at 0x000002717D239EA0>, 'displayCount': <function Employee.displayCount at 0x000002717D239D08>, 'displayEmployee': <function Employee.displayEmployee at 0x000002717D239730>, '__dict__': <attribute '__dict__' of 'Employee' objects>, '__weakref__': <attribute '__weakref__' of 'Employee' objects>}\n"
     ]
    }
   ],
   "source": [
    "class Employee: #same as Employee(object)\n",
    "   'Common base class for all employees'\n",
    "   empCount = 0 #class attribute\n",
    "\n",
    "   #name, salary and _age are instance attributes\n",
    "   def __init__(self, name, salary, age): #initializer must have at least argument beside self\n",
    "      self.name = name\n",
    "      self.salary = salary\n",
    "      self.__age = age\n",
    "      Employee.empCount += 1\n",
    "   \n",
    "   def displayCount(self):\n",
    "       print(\"Total Employee: {0}\".format(Employee.empCount))\n",
    "\n",
    "   def displayEmployee(self):\n",
    "       print(\"Name : {0}, Salary: {1}, Age: {2}\".format(self.name,self.salary, self.__age))\n",
    "    \n",
    "\"This would create first object of Employee class\"\n",
    "emp1 = Employee(\"Zara\", 2000, 21)\n",
    "\"This would create second object of Employee class\"\n",
    "emp2 = Employee(\"Manni\", 5000, 25)\n",
    "emp1.displayEmployee()\n",
    "emp2.displayEmployee()\n",
    "print(\"Total Employee: {0}\".format(Employee.empCount))\n",
    "print(\"Does employee has age attribute? \", hasattr(emp1, 'age'))    # Returns true if 'age' attribute exists\n",
    "print(\"Employee.__doc__:\", Employee.__doc__) #Class documentation string or none, if undefined\n",
    "print(\"Employee.__name__:\", Employee.__name__) #Class name\n",
    "print(\"Employee.__module__:\", Employee.__module__) #Module name in which the class is defined\n",
    "print(\"Employee.__bases__:\", Employee.__bases__) #A possibly empty tuple containing the base classes, in the order of their occurrence in the base class list\n",
    "print(\"Employee.__dict__:\", Employee.__dict__) #Dictionary containing the class's namespace\n",
    "#print(emp1.name)  #name is accessible\n",
    "#print(emp1.__age)  #__age is hidden, an attribute with double underscore means it is hidden outside of the class"
   ]
  },
  {
   "cell_type": "code",
   "execution_count": 3,
   "metadata": {},
   "outputs": [
    {
     "name": "stdout",
     "output_type": "stream",
     "text": [
      "Calling commissionemployee constructor\n",
      "Name : Holly, Salary: 2500, Age: 30\n",
      "Total Employee: 3\n",
      "True\n"
     ]
    }
   ],
   "source": [
    "\"\"\"\n",
    "inheritance\n",
    "\"\"\"\n",
    "class CommissionEmployee(Employee): # define child class\n",
    "   def __init__(self, name, salary, age, commissionrate):\n",
    "       Employee.__init__(self, name, salary, age) #use super class's name to access base class\n",
    "       self.__commissionrate = commissionrate\n",
    "       print(\"Calling commissionemployee constructor\")\n",
    "\n",
    "   def getCommission(self):\n",
    "       return self.__commissionrate * self.salary\n",
    "    \n",
    "c1 = CommissionEmployee(\"Holly\", 2500, 30, 0.5)\n",
    "c1.displayEmployee()\n",
    "c1.displayCount()\n",
    "c1.getCommission()\n",
    "print(isinstance(c1, Employee)) #determine if an instance is also an instance of a parent class"
   ]
  },
  {
   "cell_type": "markdown",
   "metadata": {},
   "source": [
    "### Python subclass collections"
   ]
  },
  {
   "cell_type": "code",
   "execution_count": 5,
   "metadata": {},
   "outputs": [
    {
     "name": "stdout",
     "output_type": "stream",
     "text": [
      "[Event]: login\n",
      "user = [Event]: user\n",
      "event_type = [Event]: login\n",
      "date = [Event]: 2017-07-11\n"
     ]
    }
   ],
   "source": [
    "#class Event(dict):#needs to override every single method in dict to be customized\n",
    "#    def __getitem__(self, key):\n",
    "#        value = super().__getitem__(key)\n",
    "#        return f\"[{self.__class__.__name__}]: {value}\"\n",
    "\n",
    "from collections import UserDict\n",
    "class Event(UserDict):\n",
    "    def __getitem__(self, key):\n",
    "        value = super().__getitem__(key)\n",
    "        return f\"[{self.__class__.__name__}]: {value}\"\n",
    "        \n",
    "event = Event(user=\"user\", event_type=\"login\", date=\"2017-07-11\")\n",
    "print(event['event_type']) #print(event.__getitem__('event_type'))\n",
    "for key, value in event.items():\n",
    "    print(f\"{key} = {value}\") #the items() method doesn’t call the Event's __getitem__() "
   ]
  },
  {
   "cell_type": "code",
   "execution_count": 10,
   "metadata": {},
   "outputs": [
    {
     "name": "stdout",
     "output_type": "stream",
     "text": [
      "[Event]: 2017-07-11 - [Event]: login\n"
     ]
    }
   ],
   "source": [
    "def log_event_type(event_type, date, **args): #first and second parameters are keywords from a dictionary\n",
    "    print(f\"{date} - {event_type}\")\n",
    "\n",
    "log_event_type(**event) "
   ]
  },
  {
   "cell_type": "code",
   "execution_count": 5,
   "metadata": {},
   "outputs": [
    {
     "name": "stdout",
     "output_type": "stream",
     "text": [
      "jsmith\n",
      "jsmith\n",
      "93 njohnson Nathan Johnson\n"
     ]
    }
   ],
   "source": [
    "import collections\n",
    "UserRecord = collections.namedtuple(\"UserRecord\", ('user_id', 'username', 'first_name', 'last_name'))\n",
    "ur1 = UserRecord(92, 'jsmith', 'John', 'Smith')\n",
    "ur2 = UserRecord(93, 'njohnson', 'Nathan', 'Johnson')\n",
    "print(ur1[1])  #access by index like regular tuple\n",
    "print(ur1.username)  #access by identifier\n",
    "print(*ur2) #unpacking"
   ]
  },
  {
   "cell_type": "markdown",
   "metadata": {},
   "source": [
    "create a new dictionary by concatenating many with the syntax new_dict = {**d1, **d2}\n",
    "\n",
    "If we change one of the source dictionaries, these won’t be reflected on the new dictionary \n",
    "\n",
    "with a ChainMap, this would be reflected.\n",
    "\n",
    "Whenever we use collections, be careful about the methods/operators that if they return a new collection or if they operate on the original collection"
   ]
  },
  {
   "cell_type": "code",
   "execution_count": 14,
   "metadata": {},
   "outputs": [
    {
     "data": {
      "text/plain": [
       "{'date': '2017-07-11',\n",
       " 'event_type': 'login',\n",
       " 'user': 'user',\n",
       " 'system': 'PROD1',\n",
       " 'status': 'up'}"
      ]
     },
     "execution_count": 14,
     "metadata": {},
     "output_type": "execute_result"
    }
   ],
   "source": [
    "context = {\"system\": \"PROD1\", \"status\": \"up\"}\n",
    "event = {'date': '2017-07-11', 'event_type': 'login', 'user': 'user'}\n",
    "enriched_event = {**event, **context}\n",
    "context[\"system\"] = \"system changed\"\n",
    "enriched_event"
   ]
  },
  {
   "cell_type": "code",
   "execution_count": 16,
   "metadata": {},
   "outputs": [
    {
     "data": {
      "text/plain": [
       "{'system': 'PROD2', 'status': 'up'}"
      ]
     },
     "execution_count": 16,
     "metadata": {},
     "output_type": "execute_result"
    }
   ],
   "source": [
    "enriched_event = collections.ChainMap(event, context)\n",
    "enriched_event['system']  #  PROD1\n",
    "context['system'] = \"PROD2\"\n",
    "enriched_event['system']   # PROD2\n",
    "# it also works the other way around\n",
    "enriched_event['user'] = 'another_user'\n",
    "event['user']  # another_user\n",
    "context"
   ]
  }
 ],
 "metadata": {
  "kernelspec": {
   "display_name": "Python 3",
   "language": "python",
   "name": "python3"
  },
  "language_info": {
   "codemirror_mode": {
    "name": "ipython",
    "version": 3
   },
   "file_extension": ".py",
   "mimetype": "text/x-python",
   "name": "python",
   "nbconvert_exporter": "python",
   "pygments_lexer": "ipython3",
   "version": "3.7.1"
  }
 },
 "nbformat": 4,
 "nbformat_minor": 2
}
