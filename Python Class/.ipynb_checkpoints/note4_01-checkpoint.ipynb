{
 "cells": [
  {
   "cell_type": "code",
   "execution_count": 1,
   "metadata": {},
   "outputs": [
    {
     "name": "stdout",
     "output_type": "stream",
     "text": [
      "Wall time: 18.9 ms\n",
      "Wall time: 718 ms\n"
     ]
    }
   ],
   "source": [
    "\"\"\"\n",
    "NumPy-based algorithms are generally 10 to 100 times faster (or more)  \n",
    "than their pure Python counterparts and use significantly less memory.\n",
    "\"\"\"\n",
    "import numpy as np\n",
    "my_arr = np.arange(1000000)\n",
    "my_list = list(range(1000000))\n",
    "%time for _ in range(10): my_arr2 = my_arr * 2\n",
    "%time for _ in range(10): my_list2 = [x * 2 for x in my_list]"
   ]
  },
  {
   "cell_type": "code",
   "execution_count": 2,
   "metadata": {},
   "outputs": [
    {
     "name": "stdout",
     "output_type": "stream",
     "text": [
      "[[-1.63057121  0.49934743 -0.09423495]\n",
      " [-0.42280835  0.53602723 -1.5414461 ]]\n",
      "[[-3.26114242  0.99869486 -0.18846991]\n",
      " [-0.84561669  1.07205445 -3.08289221]]\n",
      "[[-16.30571212   4.9934743   -0.94234954]\n",
      " [ -4.22808347   5.36027227 -15.41446104]]\n"
     ]
    }
   ],
   "source": [
    "import numpy as np\n",
    "data = np.random.randn(2, 3)\n",
    "print(data)\n",
    "print(data + data)\n",
    "print(data*10)\n",
    "data?"
   ]
  },
  {
   "cell_type": "code",
   "execution_count": 3,
   "metadata": {},
   "outputs": [
    {
     "name": "stdout",
     "output_type": "stream",
     "text": [
      "[ 6  7  8  9 10]\n",
      "[[ 1.  2.  3.  4.  5.]\n",
      " [ 6.  7.  8.  9. 10.]]\n"
     ]
    }
   ],
   "source": [
    "\"\"\"\n",
    "Creating ndarrays\n",
    "The easiest way to create an array is to use the array function.      \n",
    "This accepts any sequence-like object (including other arrays) and      \n",
    "produces a new NumPy array containing the passed data\n",
    "\"\"\"\n",
    "lst1 = [6, 7, 8, 9, 10]\n",
    "arr1 = np.array(lst1, dtype=np.int32)\n",
    "print(arr1)\n",
    "lst2 = [[1,2,3,4,5],[6,7,8,9,10]]\n",
    "arr2 = np.array(lst2, dtype=np.float64)\n",
    "print(arr2)"
   ]
  },
  {
   "cell_type": "code",
   "execution_count": 4,
   "metadata": {},
   "outputs": [
    {
     "name": "stdout",
     "output_type": "stream",
     "text": [
      "int32\n",
      "float64\n",
      "float64\n",
      "[ 1.25 -9.6  55.  ]\n",
      "[[  1.   4.   9.  16.  25.]\n",
      " [ 36.  49.  64.  81. 100.]]\n",
      "[[False  True  True  True  True]\n",
      " [ True  True  True  True  True]]\n"
     ]
    }
   ],
   "source": [
    "#explicitly convert or cast an array from one dtype to another using ndarray’s astype method\n",
    "#Calling astype always creates a new array (a copy of the data), even if the new dtype is the same as the old dtype.\n",
    "#Any arithmetic operations between equal-size arrays applies the operation element-wise\n",
    "#Comparisons between arrays of the same size yield boolean arrays\n",
    "print(arr1.dtype)\n",
    "float_arr = arr1.astype(np.float64)\n",
    "print(float_arr.dtype)\n",
    "numeric_strings = np.array(['1.25', '-9.6', '55'], dtype=np.string_)\n",
    "numeric_strings = numeric_strings.astype(float)\n",
    "print(numeric_strings.dtype)\n",
    "print(numeric_strings)\n",
    "arr3 = arr2*arr2\n",
    "print(arr3)\n",
    "print(arr3 > arr2)"
   ]
  },
  {
   "cell_type": "code",
   "execution_count": 5,
   "metadata": {},
   "outputs": [
    {
     "name": "stdout",
     "output_type": "stream",
     "text": [
      "original before modification: [ 6  7  8  9 10]\n",
      "sliced's copy:  [-100 -100]\n",
      "original after sliced copy modified: [ 6  7  8  9 10]\n",
      "sliced's original:  [7 8]\n",
      "sliced's orignial modified, and original is: [  6 100 100   9  10]\n"
     ]
    }
   ],
   "source": [
    "\"\"\"\n",
    "Basic Indexing and Slicing\n",
    "As you can see, if you assign a scalar value to a slice, as in arr[5:8] = 12, \n",
    "the value is propagated (or broadcasted henceforth) to the entire selection. \n",
    "An important first distinction from Python’s built-in lists is that array slices are views \n",
    "on the original array. This means that the data is not copied, and any modifications to the view \n",
    "will be reflected in the source array.\n",
    "If you want a copy of a slice of an ndarray instead of a view, you will need to \n",
    "explicitly copy the array—for example, arr[5:8].copy().\n",
    "\"\"\"\n",
    "arr1_slice = arr1[1:3]\n",
    "arr1_slice_cp = arr1[1:3].copy()\n",
    "arr1_slice_cp[:] = -100\n",
    "print(\"original before modification:\", arr1)\n",
    "print(\"sliced's copy: \", arr1_slice_cp)\n",
    "print(\"original after sliced copy modified:\", arr1)\n",
    "print(\"sliced's original: \", arr1_slice)\n",
    "arr1_slice[:] = 100\n",
    "print(\"sliced's orignial modified, and original is:\", arr1)"
   ]
  },
  {
   "cell_type": "code",
   "execution_count": 6,
   "metadata": {},
   "outputs": [
    {
     "name": "stdout",
     "output_type": "stream",
     "text": [
      "3d array: [[[ 1  2  3]\n",
      "  [ 4  5  6]]\n",
      "\n",
      " [[ 7  8  9]\n",
      "  [10 11 12]]]\n",
      "array's first row: [[1 2 3]\n",
      " [4 5 6]]\n",
      "3d array again after modified: [[[99 99 99]\n",
      "  [99 99 99]]\n",
      "\n",
      " [[ 7  8  9]\n",
      "  [10 11 12]]]\n",
      "3d array again afer modified again: [[[ 1  2  3]\n",
      "  [ 4  5  6]]\n",
      "\n",
      " [[ 7  8  9]\n",
      "  [10 11 12]]]\n",
      "array's second row first column: [7 8 9]\n"
     ]
    }
   ],
   "source": [
    "\"\"\"\n",
    "Multidimensional array, 2*2*3 example\n",
    "\"\"\"\n",
    "arr3d = np.array([[[1, 2, 3], [4, 5, 6]], [[7, 8, 9], [10, 11, 12]]])\n",
    "print(\"3d array:\", arr3d)\n",
    "print(\"array's first row:\", arr3d[0])\n",
    "old_values = arr3d[0].copy()\n",
    "arr3d[0] = 99\n",
    "print(\"3d array again after modified:\", arr3d)\n",
    "arr3d[0] = old_values\n",
    "print(\"3d array again afer modified again:\", arr3d)\n",
    "print(\"array's second row first column:\", arr3d[1,0])"
   ]
  },
  {
   "cell_type": "code",
   "execution_count": 7,
   "metadata": {},
   "outputs": [
    {
     "name": "stdout",
     "output_type": "stream",
     "text": [
      "[[1 2 3]\n",
      " [4 5 6]]\n",
      "[[2 3]\n",
      " [5 6]]\n",
      "[4 5]\n",
      "[[1]\n",
      " [4]\n",
      " [7]]\n"
     ]
    }
   ],
   "source": [
    "\"\"\"\n",
    "slicing is along axis\n",
    "\"\"\"\n",
    "arr2d = np.array([[1, 2, 3], [4, 5, 6], [7, 8, 9]])\n",
    "print(arr2d[:2])\n",
    "print(arr2d[:2, 1:])\n",
    "print(arr2d[1, :2])\n",
    "print(arr2d[:, :1])"
   ]
  },
  {
   "cell_type": "code",
   "execution_count": 8,
   "metadata": {},
   "outputs": [
    {
     "name": "stdout",
     "output_type": "stream",
     "text": [
      "['Bob' 'Joe' 'Will' 'Bob' 'Will' 'Joe' 'Joe']\n",
      "[[ 1.9047148  -0.25410388  0.32612545 -1.18280088]\n",
      " [ 1.08685278  0.40213338  1.26318534  0.50640363]\n",
      " [ 0.21936546  0.80949871  1.41862094 -0.93966809]\n",
      " [-0.3278349   0.81250673 -0.0633565  -0.38470565]\n",
      " [-0.82506961  0.80234987  0.57779251 -0.37057198]\n",
      " [-0.4037065   1.72320309 -0.78959071  0.46366894]\n",
      " [ 1.4168506   1.08792382 -0.34413235  1.56537211]]\n",
      "[ True False False  True False False False]\n",
      "[[ 1.9047148  -0.25410388  0.32612545 -1.18280088]\n",
      " [-0.3278349   0.81250673 -0.0633565  -0.38470565]]\n",
      "[[ 0.32612545 -1.18280088]\n",
      " [-0.0633565  -0.38470565]]\n",
      "mask: [ True False  True  True  True False False]\n",
      "after changing negative values to zeros: [[1.9047148  0.         0.32612545 0.        ]\n",
      " [1.08685278 0.40213338 1.26318534 0.50640363]\n",
      " [0.21936546 0.80949871 1.41862094 0.        ]\n",
      " [0.         0.81250673 0.         0.        ]\n",
      " [0.         0.80234987 0.57779251 0.        ]\n",
      " [0.         1.72320309 0.         0.46366894]\n",
      " [1.4168506  1.08792382 0.         1.56537211]]\n",
      "after updating all rows which are not 'Joe', the array: [[7.         7.         7.         7.        ]\n",
      " [1.08685278 0.40213338 1.26318534 0.50640363]\n",
      " [7.         7.         7.         7.        ]\n",
      " [7.         7.         7.         7.        ]\n",
      " [7.         7.         7.         7.        ]\n",
      " [0.         1.72320309 0.         0.46366894]\n",
      " [1.4168506  1.08792382 0.         1.56537211]]\n"
     ]
    }
   ],
   "source": [
    "\"\"\"\n",
    "Boolean Indexing\n",
    "Like arithmetic operations, comparisons (such as ==) with arrays are also vectorized. \n",
    "Thus, comparing names with the string 'Bob' yields a boolean array\n",
    "And then the boolean array can be passed when indexing the array\n",
    "You can even mix and match boolean arrays with slices or integers \n",
    "Boolean selection will not fail if the boolean array is not the correct length\n",
    "To select everything but 'Bob', you can either use != or negate the condition using ~\n",
    "\"\"\"\n",
    "names = np.array(['Bob', 'Joe', 'Will', 'Bob', 'Will', 'Joe', 'Joe'])\n",
    "data = np.random.randn(7, 4)\n",
    "print(names)\n",
    "print(data)\n",
    "print(names == 'Bob')\n",
    "print(data[names == 'Bob'])#for 2d array's corresponding rows\n",
    "print(data[names == 'Bob', 2:])#for 2d array's corresponding rows and starting from the third column\n",
    "#The ~ operator can be useful when you want to invert a general condition\n",
    "cond = names == 'Bob'\n",
    "data[~cond]\n",
    "#Selecting two of the three names to combine multiple boolean conditions, \n",
    "#use boolean arithmetic operators like & (and) and | (or)\n",
    "mask = (names == 'Bob') | (names == 'Will')\n",
    "print(\"mask:\", mask)\n",
    "data[data < 0] = 0\n",
    "print(\"after changing negative values to zeros:\", data)\n",
    "data[names != 'Joe'] = 7\n",
    "print(\"after updating all rows which are not 'Joe', the array:\", data)"
   ]
  },
  {
   "cell_type": "markdown",
   "metadata": {},
   "source": [
    "### Fancy Indexing\n",
    "fancy indexing, unlike slicing, always copies the data into a new array"
   ]
  },
  {
   "cell_type": "code",
   "execution_count": 9,
   "metadata": {},
   "outputs": [
    {
     "data": {
      "text/plain": [
       "array([[4., 4., 4., 4.],\n",
       "       [3., 3., 3., 3.],\n",
       "       [0., 0., 0., 0.],\n",
       "       [6., 6., 6., 6.]])"
      ]
     },
     "execution_count": 9,
     "metadata": {},
     "output_type": "execute_result"
    }
   ],
   "source": [
    "arr = np.empty((8, 4))\n",
    "for i in range(8):\n",
    "    arr[i] = i\n",
    "\"\"\"\n",
    "To select out a subset of the rows in a particular order, \n",
    "you can simply pass a list or ndarray of integers specifying the desired order\n",
    "\"\"\"\n",
    "arr[[4, 3, 0, 6]]"
   ]
  },
  {
   "cell_type": "code",
   "execution_count": 10,
   "metadata": {},
   "outputs": [
    {
     "data": {
      "text/plain": [
       "array([ 4, 23, 29, 10])"
      ]
     },
     "execution_count": 10,
     "metadata": {},
     "output_type": "execute_result"
    }
   ],
   "source": [
    "\"\"\"\n",
    "Passing multiple index arrays does something slightly different; \n",
    "it selects a one-dimensional array of elements corresponding to each tuple of indices\n",
    "\"\"\"\n",
    "arr = np.arange(32).reshape((8, 4))\n",
    "arr[[1, 5, 7, 2], [0, 3, 1, 2]]"
   ]
  },
  {
   "cell_type": "markdown",
   "metadata": {},
   "source": [
    "first create an array of selected rows from arr, assuming called arrTemp\n",
    "then create another array using all of the rows from arrTemp and re-arrange its columns"
   ]
  },
  {
   "cell_type": "code",
   "execution_count": 11,
   "metadata": {},
   "outputs": [
    {
     "data": {
      "text/plain": [
       "array([[ 4,  7,  5,  6],\n",
       "       [20, 23, 21, 22],\n",
       "       [28, 31, 29, 30],\n",
       "       [ 8, 11,  9, 10]])"
      ]
     },
     "execution_count": 11,
     "metadata": {},
     "output_type": "execute_result"
    }
   ],
   "source": [
    "\"\"\"\n",
    "rectangular region formed by selecting a subset of the matrix’s rows and columns\n",
    "\"\"\"\n",
    "arr[[1, 5, 7, 2]][:, [0, 3, 1, 2]]"
   ]
  },
  {
   "cell_type": "markdown",
   "metadata": {},
   "source": [
    "### Transposing Array"
   ]
  },
  {
   "cell_type": "code",
   "execution_count": 12,
   "metadata": {},
   "outputs": [
    {
     "data": {
      "text/plain": [
       "array([[125, 140, 155, 170, 185],\n",
       "       [140, 158, 176, 194, 212],\n",
       "       [155, 176, 197, 218, 239],\n",
       "       [170, 194, 218, 242, 266],\n",
       "       [185, 212, 239, 266, 293]])"
      ]
     },
     "execution_count": 12,
     "metadata": {},
     "output_type": "execute_result"
    }
   ],
   "source": [
    "arr = np.arange(15).reshape((3, 5))\n",
    "arr.T\n",
    "np.dot(arr.T, arr)"
   ]
  },
  {
   "cell_type": "markdown",
   "metadata": {},
   "source": [
    "### Switching array axes"
   ]
  },
  {
   "cell_type": "code",
   "execution_count": 16,
   "metadata": {},
   "outputs": [
    {
     "name": "stdout",
     "output_type": "stream",
     "text": [
      "[[[ 0  1  2  3]\n",
      "  [ 4  5  6  7]]\n",
      "\n",
      " [[ 8  9 10 11]\n",
      "  [12 13 14 15]]]\n",
      "[[[ 0  1  2  3]\n",
      "  [ 8  9 10 11]]\n",
      "\n",
      " [[ 4  5  6  7]\n",
      "  [12 13 14 15]]]\n",
      "[[[ 0  4]\n",
      "  [ 1  5]\n",
      "  [ 2  6]\n",
      "  [ 3  7]]\n",
      "\n",
      " [[ 8 12]\n",
      "  [ 9 13]\n",
      "  [10 14]\n",
      "  [11 15]]]\n",
      "[[[ 0  1  2  3]\n",
      "  [ 4  5  6  7]]\n",
      "\n",
      " [[ 8  9 10 11]\n",
      "  [12 13 14 15]]]\n"
     ]
    }
   ],
   "source": [
    "arr = np.arange(16).reshape((2, 2, 4))\n",
    "print(arr)\n",
    "print(arr.transpose((1, 0, 2)))#rearranged as second axis first, the first axis second, and the last axis unchanged\n",
    "\"\"\"\n",
    "ndarray has the method swapaxes, \n",
    "which takes a pair of axis numbers and switches the indicated axes to rearrange the data\n",
    "swapaxes similarly returns a view on the data without making a copy\n",
    "\"\"\"\n",
    "arrxs=arr.swapaxes(1, 2) #swap the second and third axis\n",
    "print(arrxs)\n",
    "print(arr)"
   ]
  },
  {
   "cell_type": "code",
   "execution_count": null,
   "metadata": {},
   "outputs": [],
   "source": []
  }
 ],
 "metadata": {
  "kernelspec": {
   "display_name": "Python 3",
   "language": "python",
   "name": "python3"
  },
  "language_info": {
   "codemirror_mode": {
    "name": "ipython",
    "version": 3
   },
   "file_extension": ".py",
   "mimetype": "text/x-python",
   "name": "python",
   "nbconvert_exporter": "python",
   "pygments_lexer": "ipython3",
   "version": "3.7.0"
  }
 },
 "nbformat": 4,
 "nbformat_minor": 2
}
